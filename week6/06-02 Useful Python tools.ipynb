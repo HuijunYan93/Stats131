{
 "cells": [
  {
   "cell_type": "code",
   "execution_count": 1,
   "metadata": {},
   "outputs": [],
   "source": [
    "import numpy as np\n",
    "import pandas as pd"
   ]
  },
  {
   "cell_type": "markdown",
   "metadata": {},
   "source": [
    "# Writing your own functions"
   ]
  },
  {
   "cell_type": "code",
   "execution_count": 142,
   "metadata": {},
   "outputs": [
    {
     "name": "stdout",
     "output_type": "stream",
     "text": [
      "hello!\n"
     ]
    }
   ],
   "source": [
    "# use the keyword def to let python know you are defining a function\n",
    "# provide the name of the function, parenthesis and a colon\n",
    "def say_hello():\n",
    "    print(\"hello!\")\n",
    "\n",
    "# python knows the function is done being defined when the lines are no longer indented\n",
    "\n",
    "say_hello()"
   ]
  },
  {
   "cell_type": "code",
   "execution_count": 143,
   "metadata": {},
   "outputs": [
    {
     "name": "stdout",
     "output_type": "stream",
     "text": [
      "hello!\n",
      "None\n"
     ]
    }
   ],
   "source": [
    "x = say_hello()  # print does not return a value. Python sends the value None to x\n",
    "print(x)  # x has value None"
   ]
  },
  {
   "cell_type": "code",
   "execution_count": 145,
   "metadata": {},
   "outputs": [
    {
     "name": "stdout",
     "output_type": "stream",
     "text": [
      "6\n"
     ]
    },
    {
     "data": {
      "text/plain": [
       "6"
      ]
     },
     "execution_count": 145,
     "metadata": {},
     "output_type": "execute_result"
    }
   ],
   "source": [
    "def add_one(x):    # if you want your function to accept an argument, provide the name in parenthesis\n",
    "    return x + 1\n",
    "\n",
    "print(add_one(5))\n",
    "add_one(5)"
   ]
  },
  {
   "cell_type": "code",
   "execution_count": 146,
   "metadata": {},
   "outputs": [],
   "source": [
    "x = add_one(5)"
   ]
  },
  {
   "cell_type": "code",
   "execution_count": 147,
   "metadata": {},
   "outputs": [
    {
     "name": "stdout",
     "output_type": "stream",
     "text": [
      "6\n"
     ]
    }
   ],
   "source": [
    "print(x)"
   ]
  },
  {
   "cell_type": "code",
   "execution_count": 148,
   "metadata": {},
   "outputs": [
    {
     "name": "stdout",
     "output_type": "stream",
     "text": [
      "7\n"
     ]
    }
   ],
   "source": [
    "def bad_add_one(y):\n",
    "    y + 2\n",
    "    print(y + 1)\n",
    "\n",
    "y = bad_add_one(6)  # calling the function runs the print statement"
   ]
  },
  {
   "cell_type": "code",
   "execution_count": 149,
   "metadata": {},
   "outputs": [
    {
     "name": "stdout",
     "output_type": "stream",
     "text": [
      "None\n"
     ]
    }
   ],
   "source": [
    "print(y)  # however, the function print(y+1) line returns None and assigns it to y."
   ]
  },
  {
   "cell_type": "code",
   "execution_count": 157,
   "metadata": {},
   "outputs": [
    {
     "name": "stdout",
     "output_type": "stream",
     "text": [
      "8\n",
      "<class 'int'>\n"
     ]
    },
    {
     "data": {
      "text/plain": [
       "8"
      ]
     },
     "execution_count": 157,
     "metadata": {},
     "output_type": "execute_result"
    }
   ],
   "source": [
    "def b_add_one(y):\n",
    "    return y + 2\n",
    "    print(y + 1)\n",
    "\n",
    "print(b_add_one(6))     # as soon as it hits the return, the function quits\n",
    "print(type(b_add_one(6)))\n",
    "b_add_one(6)"
   ]
  },
  {
   "cell_type": "code",
   "execution_count": 152,
   "metadata": {},
   "outputs": [
    {
     "name": "stdout",
     "output_type": "stream",
     "text": [
      "7\n",
      "y + 2\n",
      "7\n",
      "<class 'str'>\n"
     ]
    }
   ],
   "source": [
    "def b_add_one(y):\n",
    "    print(y + 1)\n",
    "    return \"y + 2\"\n",
    "\n",
    "print(b_add_one(6))       # calling the function runs the print statement, and print the return value \n",
    "print(type(b_add_one(6))) # calling the function runs the print statement, and explore the type of return value"
   ]
  },
  {
   "cell_type": "code",
   "execution_count": 153,
   "metadata": {},
   "outputs": [],
   "source": [
    "def b_add_one(y):\n",
    "    return y + 2\n",
    "    print(y + 1)\n",
    "    \n",
    "z = b_add_one(6)  # as soon as it hits the return, the function quits"
   ]
  },
  {
   "cell_type": "code",
   "execution_count": 154,
   "metadata": {},
   "outputs": [
    {
     "name": "stdout",
     "output_type": "stream",
     "text": [
      "8\n"
     ]
    }
   ],
   "source": [
    "print(z)  # but it returns the correct value which we can use later"
   ]
  },
  {
   "cell_type": "code",
   "execution_count": 155,
   "metadata": {},
   "outputs": [
    {
     "name": "stdout",
     "output_type": "stream",
     "text": [
      "7\n"
     ]
    }
   ],
   "source": [
    "def b_add_one(y):\n",
    "    print(y + 1)\n",
    "    return y + 2\n",
    "\n",
    "z = b_add_one(6)  # calling the function runs the print statement, assign the return value to z"
   ]
  },
  {
   "cell_type": "code",
   "execution_count": 156,
   "metadata": {
    "scrolled": true
   },
   "outputs": [
    {
     "name": "stdout",
     "output_type": "stream",
     "text": [
      "8\n"
     ]
    }
   ],
   "source": [
    "print(z)"
   ]
  },
  {
   "cell_type": "markdown",
   "metadata": {},
   "source": [
    "## Return multiple values with tuples"
   ]
  },
  {
   "cell_type": "code",
   "execution_count": 160,
   "metadata": {},
   "outputs": [
    {
     "data": {
      "text/plain": [
       "('red', 'statistics', 2011)"
      ]
     },
     "execution_count": 160,
     "metadata": {},
     "output_type": "execute_result"
    }
   ],
   "source": [
    "# a function can return multiple values with a tuple\n",
    "\n",
    "def favorites():\n",
    "    \"\"\"returns a tuple of some of my favorite things\"\"\"  # this is called a docstring. You enclose it in triple quotes.\n",
    "      # if you ask for help(favorites), it will print whatever you write here\n",
    "    x = 'red'\n",
    "    y = 'statistics'\n",
    "    z = 2011\n",
    "    mytuple = (x, y, z)\n",
    "    return mytuple       # or directly return (x, y, z)\n",
    "\n",
    "favorites()  # calling the function returns the tuple"
   ]
  },
  {
   "cell_type": "code",
   "execution_count": 161,
   "metadata": {},
   "outputs": [],
   "source": [
    "?favorites"
   ]
  },
  {
   "cell_type": "code",
   "execution_count": 162,
   "metadata": {},
   "outputs": [],
   "source": [
    "a, b, c = favorites() # the output can be captured to multiple variables"
   ]
  },
  {
   "cell_type": "code",
   "execution_count": 163,
   "metadata": {},
   "outputs": [
    {
     "name": "stdout",
     "output_type": "stream",
     "text": [
      "red\n"
     ]
    }
   ],
   "source": [
    "print(a)"
   ]
  },
  {
   "cell_type": "code",
   "execution_count": 164,
   "metadata": {},
   "outputs": [
    {
     "name": "stdout",
     "output_type": "stream",
     "text": [
      "statistics\n"
     ]
    }
   ],
   "source": [
    "print(b)"
   ]
  },
  {
   "cell_type": "code",
   "execution_count": 165,
   "metadata": {},
   "outputs": [
    {
     "name": "stdout",
     "output_type": "stream",
     "text": [
      "2011\n"
     ]
    }
   ],
   "source": [
    "print(c)"
   ]
  },
  {
   "cell_type": "code",
   "execution_count": 167,
   "metadata": {},
   "outputs": [
    {
     "ename": "ValueError",
     "evalue": "not enough values to unpack (expected 4, got 3)",
     "output_type": "error",
     "traceback": [
      "\u001b[1;31m---------------------------------------------------------------------------\u001b[0m",
      "\u001b[1;31mValueError\u001b[0m                                Traceback (most recent call last)",
      "\u001b[1;32m<ipython-input-167-ca2a2254f8ab>\u001b[0m in \u001b[0;36m<module>\u001b[1;34m()\u001b[0m\n\u001b[1;32m----> 1\u001b[1;33m \u001b[0md\u001b[0m\u001b[1;33m,\u001b[0m \u001b[0me\u001b[0m\u001b[1;33m,\u001b[0m \u001b[0mf\u001b[0m\u001b[1;33m,\u001b[0m \u001b[0mg\u001b[0m \u001b[1;33m=\u001b[0m \u001b[0mfavorites\u001b[0m\u001b[1;33m(\u001b[0m\u001b[1;33m)\u001b[0m  \u001b[1;31m# if you give it the wrong number of values to assign, it will give an error\u001b[0m\u001b[1;33m\u001b[0m\u001b[0m\n\u001b[0m",
      "\u001b[1;31mValueError\u001b[0m: not enough values to unpack (expected 4, got 3)"
     ]
    }
   ],
   "source": [
    "d, e, f, g = favorites()  # if you give it the wrong number of values to assign, it will give an error "
   ]
  },
  {
   "cell_type": "markdown",
   "metadata": {},
   "source": [
    "## Functions and Scope (a favorite topic)"
   ]
  },
  {
   "cell_type": "code",
   "execution_count": 15,
   "metadata": {},
   "outputs": [],
   "source": [
    "# similar to R, values defined in a function do not interact with values in the global environment unless told to do so"
   ]
  },
  {
   "cell_type": "code",
   "execution_count": 174,
   "metadata": {},
   "outputs": [
    {
     "data": {
      "text/plain": [
       "9"
      ]
     },
     "execution_count": 174,
     "metadata": {},
     "output_type": "execute_result"
    }
   ],
   "source": [
    "x = 4\n",
    "\n",
    "def modify(a):\n",
    "    x = a + 5  # this x exists only in the scope of this function\n",
    "    return(x)\n",
    "\n",
    "modify(4)      # but if we let x=modify(4), the x in the global environment will be affected"
   ]
  },
  {
   "cell_type": "code",
   "execution_count": 175,
   "metadata": {},
   "outputs": [
    {
     "name": "stdout",
     "output_type": "stream",
     "text": [
      "4\n"
     ]
    }
   ],
   "source": [
    "print(x)  # the x in the global environment is unaffected"
   ]
  },
  {
   "cell_type": "code",
   "execution_count": 176,
   "metadata": {},
   "outputs": [
    {
     "data": {
      "text/plain": [
       "54"
      ]
     },
     "execution_count": 176,
     "metadata": {},
     "output_type": "execute_result"
    }
   ],
   "source": [
    "def modify_global(a):\n",
    "    global x   # use keyword global to let python know that x in the function is the same x in the global environment\n",
    "    x = a + 50\n",
    "    return(x)\n",
    "\n",
    "modify_global(4)  # calling this function will change x in the global environment"
   ]
  },
  {
   "cell_type": "code",
   "execution_count": 177,
   "metadata": {},
   "outputs": [
    {
     "name": "stdout",
     "output_type": "stream",
     "text": [
      "54\n"
     ]
    }
   ],
   "source": [
    "print(x)"
   ]
  },
  {
   "cell_type": "code",
   "execution_count": 178,
   "metadata": {},
   "outputs": [],
   "source": [
    "# if you have nested functions, you can use the keyword nonlocal. "
   ]
  },
  {
   "cell_type": "markdown",
   "metadata": {},
   "source": [
    "# for loops for different iterables"
   ]
  },
  {
   "cell_type": "code",
   "execution_count": 181,
   "metadata": {},
   "outputs": [
    {
     "name": "stdout",
     "output_type": "stream",
     "text": [
      "['red', 'orange', 'yellow', 'green']\n",
      "<class 'list'>\n",
      "red!\n",
      "orange!\n",
      "yellow!\n",
      "green!\n"
     ]
    }
   ],
   "source": [
    "# lots of things are iterables\n",
    "# lists:\n",
    "l = ['red', 'orange', 'yellow', 'green']\n",
    "print(l)\n",
    "print(type(l))\n",
    "\n",
    "# you can run a for loop for each element of the list:\n",
    "for item in l:\n",
    "    print(item + \"!\")"
   ]
  },
  {
   "cell_type": "code",
   "execution_count": 188,
   "metadata": {},
   "outputs": [
    {
     "name": "stdout",
     "output_type": "stream",
     "text": [
      "red!\n",
      "orange!\n",
      "yellow!\n",
      "green!\n"
     ]
    }
   ],
   "source": [
    "# you can also create a range object and iterate over that\n",
    "for i in range(len(l)):\n",
    "    print(l[i] + \"!\")"
   ]
  },
  {
   "cell_type": "code",
   "execution_count": 190,
   "metadata": {},
   "outputs": [
    {
     "name": "stdout",
     "output_type": "stream",
     "text": [
      "4\n",
      "range(0, 4)\n",
      "[0, 1, 2, 3]\n"
     ]
    }
   ],
   "source": [
    "# closer inspection of the range object:\n",
    "print(len(l))        # length of l\n",
    "print(range(len(l))) # range object\n",
    "\n",
    "print(list(range(len(l))))  # if you put a range object into a list, it becomes a list of the values"
   ]
  },
  {
   "cell_type": "code",
   "execution_count": 191,
   "metadata": {},
   "outputs": [
    {
     "name": "stdout",
     "output_type": "stream",
     "text": [
      "[0 1 2 3]\n"
     ]
    }
   ],
   "source": [
    "n = np.arange(4)\n",
    "print(n)"
   ]
  },
  {
   "cell_type": "code",
   "execution_count": 192,
   "metadata": {},
   "outputs": [
    {
     "name": "stdout",
     "output_type": "stream",
     "text": [
      "0\n",
      "10\n",
      "20\n",
      "30\n"
     ]
    }
   ],
   "source": [
    "for i in n:    # you can iterate over numpy arrays\n",
    "    print(i * 10)"
   ]
  },
  {
   "cell_type": "code",
   "execution_count": 193,
   "metadata": {},
   "outputs": [
    {
     "name": "stdout",
     "output_type": "stream",
     "text": [
      "H\n",
      "I\n",
      " \n",
      "T\n",
      "H\n",
      "E\n",
      "R\n",
      "E\n",
      "!\n"
     ]
    }
   ],
   "source": [
    "for a in \"hi there!\":  # strings are also iterable. each element is a letter\n",
    "    print(a.upper())\n"
   ]
  },
  {
   "cell_type": "code",
   "execution_count": 194,
   "metadata": {},
   "outputs": [
    {
     "name": "stdout",
     "output_type": "stream",
     "text": [
      "the capital of CA is Sacramento\n",
      "the capital of TX is Austin\n",
      "the capital of NY is Albany\n"
     ]
    }
   ],
   "source": [
    "d = {'CA':'Sacramento', 'TX':'Austin', 'NY':'Albany'}  # dictionary\n",
    "for key, value in d.items():  # make sure you use .items(), and use key, value to unpack the tuples\n",
    "    print('the capital of ' + key + ' is ' + value)"
   ]
  },
  {
   "cell_type": "code",
   "execution_count": 195,
   "metadata": {},
   "outputs": [
    {
     "name": "stdout",
     "output_type": "stream",
     "text": [
      "{'CA': 'Sacramento', 'TX': 'Austin', 'NY': 'Albany'}\n"
     ]
    }
   ],
   "source": [
    "print(d)"
   ]
  },
  {
   "cell_type": "code",
   "execution_count": 198,
   "metadata": {},
   "outputs": [
    {
     "name": "stdout",
     "output_type": "stream",
     "text": [
      "dict_items([('CA', 'Sacramento'), ('TX', 'Austin'), ('NY', 'Albany')])\n"
     ]
    }
   ],
   "source": [
    "print(d.items())"
   ]
  },
  {
   "cell_type": "markdown",
   "metadata": {},
   "source": [
    "### zipping lists"
   ]
  },
  {
   "cell_type": "code",
   "execution_count": 199,
   "metadata": {},
   "outputs": [],
   "source": [
    "# like the opposite of unpacking a dictionary:\n",
    "states = ['OR', 'WA', 'OH']\n",
    "caps = ['Salem', 'Olympia', 'Columbus']\n",
    "\n",
    "z = zip(states, caps)"
   ]
  },
  {
   "cell_type": "code",
   "execution_count": 200,
   "metadata": {},
   "outputs": [
    {
     "name": "stdout",
     "output_type": "stream",
     "text": [
      "<zip object at 0x000002AD456C0E08>\n"
     ]
    }
   ],
   "source": [
    "print(z)"
   ]
  },
  {
   "cell_type": "code",
   "execution_count": 201,
   "metadata": {},
   "outputs": [
    {
     "name": "stdout",
     "output_type": "stream",
     "text": [
      "('OR', 'Salem') ('WA', 'Olympia') ('OH', 'Columbus')\n"
     ]
    }
   ],
   "source": [
    "print(*z)  # you can unpack a zip object with *, warning: you can only do this once"
   ]
  },
  {
   "cell_type": "code",
   "execution_count": 202,
   "metadata": {},
   "outputs": [
    {
     "name": "stdout",
     "output_type": "stream",
     "text": [
      "<zip object at 0x000002AD456C0E08>\n"
     ]
    }
   ],
   "source": [
    "print(z)"
   ]
  },
  {
   "cell_type": "code",
   "execution_count": 203,
   "metadata": {},
   "outputs": [
    {
     "name": "stdout",
     "output_type": "stream",
     "text": [
      "\n"
     ]
    }
   ],
   "source": [
    "print(*z)  # trying to unpack the list again returns empty set"
   ]
  },
  {
   "cell_type": "code",
   "execution_count": 206,
   "metadata": {},
   "outputs": [
    {
     "name": "stdout",
     "output_type": "stream",
     "text": [
      "<zip object at 0x000002AD45717708>\n",
      "[('OR', 'Salem'), ('WA', 'Olympia'), ('OH', 'Columbus')]\n"
     ]
    }
   ],
   "source": [
    "z = zip(states, caps) # remake the zip object\n",
    "print(z)\n",
    "zl = list(z)    # you can throw the zip into a list, and it will make a list of tuples. the zip object will empty out again\n",
    "print(zl)"
   ]
  },
  {
   "cell_type": "code",
   "execution_count": 207,
   "metadata": {},
   "outputs": [
    {
     "name": "stdout",
     "output_type": "stream",
     "text": [
      "\n"
     ]
    }
   ],
   "source": [
    "print(*z) # z is empty"
   ]
  },
  {
   "cell_type": "code",
   "execution_count": 208,
   "metadata": {
    "scrolled": true
   },
   "outputs": [
    {
     "name": "stdout",
     "output_type": "stream",
     "text": [
      "the capital of OR is Salem\n",
      "the capital of WA is Olympia\n",
      "the capital of OH is Columbus\n"
     ]
    }
   ],
   "source": [
    "for val1, val2 in zl:\n",
    "    print('the capital of ' + val1 + ' is ' + val2)"
   ]
  },
  {
   "cell_type": "code",
   "execution_count": 211,
   "metadata": {},
   "outputs": [
    {
     "name": "stdout",
     "output_type": "stream",
     "text": [
      "{'OR': 'Salem', 'WA': 'Olympia', 'OH': 'Columbus'}\n"
     ]
    }
   ],
   "source": [
    "z = zip(states, caps) \n",
    "zd = dict(z)  # you can also throw the zip into a dict, again the zip object will empty out\n",
    "              # dict only can use under the condition like z = zip(element1,element2) because pair of key and value in dict \n",
    "              # if z = zip(element1,element2,element3,...), we should use list\n",
    "print(zd)"
   ]
  },
  {
   "cell_type": "code",
   "execution_count": 212,
   "metadata": {},
   "outputs": [
    {
     "name": "stdout",
     "output_type": "stream",
     "text": [
      "OR - Salem\n",
      "WA - Olympia\n",
      "OH - Columbus\n"
     ]
    }
   ],
   "source": [
    "for key, value in zd.items():\n",
    "    print(key + ' - ' + value)"
   ]
  },
  {
   "cell_type": "markdown",
   "metadata": {},
   "source": [
    "# list comprehensions"
   ]
  },
  {
   "cell_type": "code",
   "execution_count": 219,
   "metadata": {},
   "outputs": [
    {
     "name": "stdout",
     "output_type": "stream",
     "text": [
      "['red!', 'orange!', 'yellow!', 'green!']\n",
      "<class 'list'>\n"
     ]
    }
   ],
   "source": [
    "# if you want the results of a loop to be stored in a list, it makes sense to use a list comprehension\n",
    "\n",
    "l = ['red', 'orange', 'yellow', 'green']\n",
    "\n",
    "\n",
    "# method using a for loop:\n",
    "results = []  # empty list\n",
    "\n",
    "# you can run a for loop for each element of the list:\n",
    "for item in l:\n",
    "    results.append(item + \"!\")\n",
    "    \n",
    "print(results)\n",
    "print(type(results))"
   ]
  },
  {
   "cell_type": "code",
   "execution_count": 221,
   "metadata": {
    "scrolled": true
   },
   "outputs": [
    {
     "ename": "IndexError",
     "evalue": "list assignment index out of range",
     "output_type": "error",
     "traceback": [
      "\u001b[1;31m---------------------------------------------------------------------------\u001b[0m",
      "\u001b[1;31mIndexError\u001b[0m                                Traceback (most recent call last)",
      "\u001b[1;32m<ipython-input-221-654ab6356b5b>\u001b[0m in \u001b[0;36m<module>\u001b[1;34m()\u001b[0m\n\u001b[0;32m      2\u001b[0m \u001b[0mresultsb\u001b[0m \u001b[1;33m=\u001b[0m \u001b[1;33m[\u001b[0m\u001b[1;33m]\u001b[0m\u001b[1;33m\u001b[0m\u001b[0m\n\u001b[0;32m      3\u001b[0m \u001b[1;32mfor\u001b[0m \u001b[0mi\u001b[0m \u001b[1;32min\u001b[0m \u001b[0mrange\u001b[0m\u001b[1;33m(\u001b[0m\u001b[0mlen\u001b[0m\u001b[1;33m(\u001b[0m\u001b[0ml\u001b[0m\u001b[1;33m)\u001b[0m\u001b[1;33m)\u001b[0m\u001b[1;33m:\u001b[0m\u001b[1;33m\u001b[0m\u001b[0m\n\u001b[1;32m----> 4\u001b[1;33m     \u001b[0mresultsb\u001b[0m\u001b[1;33m[\u001b[0m\u001b[0mi\u001b[0m\u001b[1;33m]\u001b[0m \u001b[1;33m=\u001b[0m \u001b[0ml\u001b[0m\u001b[1;33m[\u001b[0m\u001b[0mi\u001b[0m\u001b[1;33m]\u001b[0m \u001b[1;33m+\u001b[0m \u001b[1;34m\"!\"\u001b[0m\u001b[1;33m\u001b[0m\u001b[0m\n\u001b[0m\u001b[0;32m      5\u001b[0m \u001b[0mprint\u001b[0m\u001b[1;33m(\u001b[0m\u001b[0mresultsb\u001b[0m\u001b[1;33m)\u001b[0m\u001b[1;33m\u001b[0m\u001b[0m\n",
      "\u001b[1;31mIndexError\u001b[0m: list assignment index out of range"
     ]
    }
   ],
   "source": [
    "# to modify lists, you'll need to use list methods. You can't give a list an out of range index like in R\n",
    "resultsb = []\n",
    "for i in range(len(l)):\n",
    "    resultsb[i] = l[i] + \"!\"\n",
    "print(resultsb)"
   ]
  },
  {
   "cell_type": "code",
   "execution_count": 223,
   "metadata": {},
   "outputs": [
    {
     "name": "stdout",
     "output_type": "stream",
     "text": [
      "['red!', 'orange!', 'yellow!', 'green!']\n"
     ]
    }
   ],
   "source": [
    "# However, the same result can be achieved using a list comprehension:\n",
    "\n",
    "results2 = [ item + \"!\" for item in l ]  # put brackets around the expression followed by the for statement\n",
    "print(results2)"
   ]
  },
  {
   "cell_type": "code",
   "execution_count": 48,
   "metadata": {},
   "outputs": [
    {
     "name": "stdout",
     "output_type": "stream",
     "text": [
      "['The capital of CA is Sacramento', 'The capital of TX is Austin', 'The capital of NY is Albany']\n"
     ]
    }
   ],
   "source": [
    "# works for dictionaries too:\n",
    "d = {'CA':'Sacramento', 'TX':'Austin', 'NY':'Albany'}  \n",
    "\n",
    "text = [ 'The capital of ' + key + ' is ' + value  for key,value in d.items()]\n",
    "print(text)"
   ]
  },
  {
   "cell_type": "code",
   "execution_count": 230,
   "metadata": {},
   "outputs": [
    {
     "name": "stdout",
     "output_type": "stream",
     "text": [
      "[0, 1, 2, 3, 4, 5, 6, 7, 8, 9]\n",
      "[0, 3, 6, 9]\n"
     ]
    }
   ],
   "source": [
    "# you can even have conditions in the list comprehension\n",
    "\n",
    "x = [a for a in range(0,10)]  # store a for the values in the range 0 to 9\n",
    "print(x)\n",
    "\n",
    "x = [a for a in range(0,10) if a % 3 == 0]  # store a for the values in the range 0 to 9 if a is divisible by 3\n",
    "print(x)"
   ]
  },
  {
   "cell_type": "code",
   "execution_count": 232,
   "metadata": {},
   "outputs": [
    {
     "name": "stdout",
     "output_type": "stream",
     "text": [
      "[0, 2, 2, 4, 4, 6, 6, 8, 8, 10]\n"
     ]
    }
   ],
   "source": [
    "y = [d if d % 2 == 0 else d + 1 for d in range(0,10)]  \n",
    "# store d if the value is divisible by 2\n",
    "# otherwise store d + 1 \n",
    "# for values in the range 0 to 10 (excluding 10)\n",
    "print(y)"
   ]
  },
  {
   "cell_type": "code",
   "execution_count": null,
   "metadata": {},
   "outputs": [],
   "source": []
  }
 ],
 "metadata": {
  "kernelspec": {
   "display_name": "Python 3",
   "language": "python",
   "name": "python3"
  },
  "language_info": {
   "codemirror_mode": {
    "name": "ipython",
    "version": 3
   },
   "file_extension": ".py",
   "mimetype": "text/x-python",
   "name": "python",
   "nbconvert_exporter": "python",
   "pygments_lexer": "ipython3",
   "version": "3.6.4"
  }
 },
 "nbformat": 4,
 "nbformat_minor": 2
}
