{
 "cells": [
  {
   "cell_type": "markdown",
   "metadata": {},
   "source": [
    "# Lists"
   ]
  },
  {
   "cell_type": "markdown",
   "metadata": {},
   "source": [
    "## List Creation\n",
    "Use square brackets. Lists can contain any mix of data types. You can nest lists inside other lists."
   ]
  },
  {
   "cell_type": "code",
   "execution_count": 1,
   "metadata": {},
   "outputs": [
    {
     "name": "stdout",
     "output_type": "stream",
     "text": [
      "['liz', 1.73, 'emma', 1.68, 'mom', 1.71, 'dad', 1.89]\n"
     ]
    }
   ],
   "source": [
    "fam = [\"liz\", 1.73, \"emma\", 1.68, \"mom\", 1.71, \"dad\", 1.89]\n",
    "print(fam)"
   ]
  },
  {
   "cell_type": "code",
   "execution_count": 3,
   "metadata": {},
   "outputs": [
    {
     "name": "stdout",
     "output_type": "stream",
     "text": [
      "[['liz', 1.73], ['emma', 1.68], ['mom', 1.71], ['dad', 1.89]]\n"
     ]
    }
   ],
   "source": [
    "fam2 = [[\"liz\", 1.73],\n",
    "[\"emma\", 1.68],\n",
    "[\"mom\", 1.71],\n",
    "[\"dad\", 1.89]]\n",
    "print(fam2)"
   ]
  },
  {
   "cell_type": "markdown",
   "metadata": {},
   "source": [
    "## Subsetting lists\n",
    "- index starts at 0 (hardest part to adapt for R users)\n",
    "- use a series of square brackets for nested lists\n",
    "- use negative numbers to count from the end"
   ]
  },
  {
   "cell_type": "code",
   "execution_count": 5,
   "metadata": {},
   "outputs": [
    {
     "data": {
      "text/plain": [
       "'liz'"
      ]
     },
     "execution_count": 5,
     "metadata": {},
     "output_type": "execute_result"
    }
   ],
   "source": [
    "fam[0]"
   ]
  },
  {
   "cell_type": "code",
   "execution_count": 6,
   "metadata": {},
   "outputs": [
    {
     "data": {
      "text/plain": [
       "['liz', 1.73]"
      ]
     },
     "execution_count": 6,
     "metadata": {},
     "output_type": "execute_result"
    }
   ],
   "source": [
    "fam2[0]"
   ]
  },
  {
   "cell_type": "code",
   "execution_count": 7,
   "metadata": {},
   "outputs": [
    {
     "data": {
      "text/plain": [
       "'liz'"
      ]
     },
     "execution_count": 7,
     "metadata": {},
     "output_type": "execute_result"
    }
   ],
   "source": [
    "fam2[0][0]"
   ]
  },
  {
   "cell_type": "code",
   "execution_count": 13,
   "metadata": {},
   "outputs": [
    {
     "name": "stdout",
     "output_type": "stream",
     "text": [
      "1.89\n",
      "dad\n"
     ]
    }
   ],
   "source": [
    "print(fam[-1])\n",
    "print(fam[-2])"
   ]
  },
  {
   "cell_type": "code",
   "execution_count": 14,
   "metadata": {},
   "outputs": [
    {
     "data": {
      "text/plain": [
       "['dad', 1.89]"
      ]
     },
     "execution_count": 14,
     "metadata": {},
     "output_type": "execute_result"
    }
   ],
   "source": [
    "fam2[-1]"
   ]
  },
  {
   "cell_type": "code",
   "execution_count": 15,
   "metadata": {},
   "outputs": [
    {
     "data": {
      "text/plain": [
       "1.89"
      ]
     },
     "execution_count": 15,
     "metadata": {},
     "output_type": "execute_result"
    }
   ],
   "source": [
    "fam2[-1][-1]"
   ]
  },
  {
   "cell_type": "markdown",
   "metadata": {},
   "source": [
    "## List Slicing\n",
    "Note that the slice will not include the item in the index after the colon.\n",
    "You can think of the 'slice' happening at the commas corresponding to the number.\n",
    "So fam[1:3] slices the list at the first and third commas, and extracts [1.73, 'emma']"
   ]
  },
  {
   "cell_type": "code",
   "execution_count": 16,
   "metadata": {
    "scrolled": true
   },
   "outputs": [
    {
     "name": "stdout",
     "output_type": "stream",
     "text": [
      "['liz', 1.73, 'emma', 1.68, 'mom', 1.71, 'dad', 1.89]\n"
     ]
    },
    {
     "data": {
      "text/plain": [
       "[1.73, 'emma']"
      ]
     },
     "execution_count": 16,
     "metadata": {},
     "output_type": "execute_result"
    }
   ],
   "source": [
    "fam = [\"liz\", 1.73, \"emma\", 1.68, \"mom\", 1.71, \"dad\", 1.89]\n",
    "print(fam)\n",
    "fam[1:3]"
   ]
  },
  {
   "cell_type": "code",
   "execution_count": 12,
   "metadata": {},
   "outputs": [
    {
     "data": {
      "text/plain": [
       "[1.73]"
      ]
     },
     "execution_count": 12,
     "metadata": {},
     "output_type": "execute_result"
    }
   ],
   "source": [
    "fam[1:2]"
   ]
  },
  {
   "cell_type": "code",
   "execution_count": 13,
   "metadata": {},
   "outputs": [
    {
     "data": {
      "text/plain": [
       "[]"
      ]
     },
     "execution_count": 13,
     "metadata": {},
     "output_type": "execute_result"
    }
   ],
   "source": [
    "fam[1:1]"
   ]
  },
  {
   "cell_type": "code",
   "execution_count": 17,
   "metadata": {},
   "outputs": [
    {
     "name": "stdout",
     "output_type": "stream",
     "text": [
      "[['liz', 1.73], ['emma', 1.68], ['mom', 1.71], ['dad', 1.89]]\n"
     ]
    },
    {
     "data": {
      "text/plain": [
       "[['liz', 1.73], ['emma', 1.68]]"
      ]
     },
     "execution_count": 17,
     "metadata": {},
     "output_type": "execute_result"
    }
   ],
   "source": [
    "print(fam2)\n",
    "fam2[0:2]"
   ]
  },
  {
   "cell_type": "code",
   "execution_count": 18,
   "metadata": {},
   "outputs": [
    {
     "name": "stdout",
     "output_type": "stream",
     "text": [
      "['liz', 1.73, 'emma', 1.68, 'mom', 1.71, 'dad', 1.89]\n"
     ]
    },
    {
     "data": {
      "text/plain": [
       "['emma', 1.68, 'mom', 1.71, 'dad', 1.89]"
      ]
     },
     "execution_count": 18,
     "metadata": {},
     "output_type": "execute_result"
    }
   ],
   "source": [
    "print(fam)\n",
    "fam[2:]"
   ]
  },
  {
   "cell_type": "code",
   "execution_count": 16,
   "metadata": {},
   "outputs": [
    {
     "data": {
      "text/plain": [
       "['liz', 1.73, 'emma', 1.68]"
      ]
     },
     "execution_count": 16,
     "metadata": {},
     "output_type": "execute_result"
    }
   ],
   "source": [
    "fam[:4]"
   ]
  },
  {
   "cell_type": "code",
   "execution_count": 17,
   "metadata": {},
   "outputs": [
    {
     "data": {
      "text/plain": [
       "['liz', 1.73, 'emma', 1.68, 'mom', 1.71, 'dad', 1.89]"
      ]
     },
     "execution_count": 17,
     "metadata": {},
     "output_type": "execute_result"
    }
   ],
   "source": [
    "fam[:]  # slice with no indices will create a copy of the list."
   ]
  },
  {
   "cell_type": "code",
   "execution_count": 18,
   "metadata": {},
   "outputs": [
    {
     "name": "stdout",
     "output_type": "stream",
     "text": [
      "['liz', 1.73, 'emma', 1.68, 'mom', 1.71, 'dad', 1.89]\n",
      "[1.68, 'mom', 1.71]\n"
     ]
    }
   ],
   "source": [
    "fam = [\"liz\", 1.73, \"emma\", 1.68, \"mom\", 1.71, \"dad\", 1.89]\n",
    "print(fam)\n",
    "print(fam[-5:-2])"
   ]
  },
  {
   "cell_type": "markdown",
   "metadata": {},
   "source": [
    "No simple solution for subsetting disjoint items in a list. No equivalent to R's list[c(1, 3, 7)]\n",
    "\n",
    "A workaround (from stackexchange):\n",
    "\n",
    "`a = ['a', 'b', 'c', 3, 4, 'd', 6, 7, 8]`\n",
    "and the list of indexes is stored in\n",
    "\n",
    "`b= [1, 3, 7]`\n",
    "then a simple one-line solution will be\n",
    "\n",
    "`c = [a[i] for i in b]`"
   ]
  },
  {
   "cell_type": "code",
   "execution_count": 19,
   "metadata": {},
   "outputs": [
    {
     "name": "stdout",
     "output_type": "stream",
     "text": [
      "['a', 'b', 'c', 3, 4, 'd', 6, 7, 8]\n",
      "[1, 3, 7]\n",
      "['b', 3, 7]\n"
     ]
    }
   ],
   "source": [
    "a = ['a', 'b', 'c', 3, 4, 'd', 6, 7, 8]\n",
    "b = [1,3,7]\n",
    "c = [a[i] for i in b]\n",
    "print(a)\n",
    "print(b)\n",
    "print(c)"
   ]
  },
  {
   "cell_type": "markdown",
   "metadata": {},
   "source": [
    "## Lists are mutable\n",
    "This means that methods change the lists themselves. \n",
    "If the list is assigned to another name, both names refer to the exact same object."
   ]
  },
  {
   "cell_type": "code",
   "execution_count": 20,
   "metadata": {},
   "outputs": [
    {
     "name": "stdout",
     "output_type": "stream",
     "text": [
      "['liz', 1.73, 'emma', 1.68, 'mom', 1.71, 'dad', 1.89]\n",
      "['sister', 1.73, 'emma', 1.68, 'mom', 1.71, 'dad', 1.89]\n",
      "['sister', 1.73, 'emma', 1.68, 'mom', 1.71, 'dad', 1.89]\n"
     ]
    }
   ],
   "source": [
    "fam = [\"liz\", 1.73, \"emma\", 1.68, \"mom\", 1.71, \"dad\", 1.89]\n",
    "print(fam)\n",
    "second = fam\n",
    "second[0] = \"sister\"\n",
    "print(second)\n",
    "print(fam) # changing second has changed fam"
   ]
  },
  {
   "cell_type": "code",
   "execution_count": 21,
   "metadata": {},
   "outputs": [
    {
     "name": "stdout",
     "output_type": "stream",
     "text": [
      "['liz', 1.73, 'emma', 1.68, 'mom', 1.71, 'dad', 1.89]\n",
      "['sister', 1.73, 'emma', 1.68, 'mom', 1.71, 'dad', 1.89]\n",
      "['liz', 1.73, 'emma', 1.68, 'mom', 1.71, 'dad', 1.89]\n"
     ]
    }
   ],
   "source": [
    "fam = [\"liz\", 1.73, \"emma\", 1.68, \"mom\", 1.71, \"dad\", 1.89]\n",
    "print(fam)\n",
    "second = fam[:]  # creates a copy of the list\n",
    "# second = fam.copy() # you can also create a list using the copy() method\n",
    "second[0] = \"sister\"\n",
    "print(second)\n",
    "print(fam)"
   ]
  },
  {
   "cell_type": "code",
   "execution_count": 22,
   "metadata": {},
   "outputs": [
    {
     "name": "stdout",
     "output_type": "stream",
     "text": [
      "['liz', 1.73, 'emma', 1.68, 'mom', 1.71, 'dad', 1.89]\n",
      "['liz', 1.65, 'emma', 1.68, 'mom', 1.71, 'dad', 1.89]\n",
      "['liz', 1.73, 'emma', 1.68, 'mom', 1.71, 'dad', 1.89]\n"
     ]
    }
   ],
   "source": [
    "third = fam.copy()\n",
    "print(third)\n",
    "third[1] = 1.65\n",
    "print(third)\n",
    "print(fam)"
   ]
  },
  {
   "cell_type": "code",
   "execution_count": 23,
   "metadata": {},
   "outputs": [
    {
     "name": "stdout",
     "output_type": "stream",
     "text": [
      "['liz', 1.73, 'emma', 1.68, 'mom', 1.71, 'dad', 1.89]\n",
      "['liz', 1.8, 'jenny', 1.68, 'mom', 1.71, 'dad', 1.89]\n"
     ]
    }
   ],
   "source": [
    "print(fam)\n",
    "fam[1:3] = [1.8, \"jenny\"]\n",
    "print(fam)"
   ]
  },
  {
   "cell_type": "markdown",
   "metadata": {},
   "source": [
    "# List Methods\n",
    "\n",
    "- `list.copy()`\n",
    "    - Return a shallow copy of the list. Equivalent to a `list[:]`\n",
    "- `list.append(x)`\n",
    "    - Add an item to the end of the list. Equivalent to a `[len(a):] = [x]`"
   ]
  },
  {
   "cell_type": "code",
   "execution_count": 13,
   "metadata": {
    "scrolled": true
   },
   "outputs": [
    {
     "name": "stdout",
     "output_type": "stream",
     "text": [
      "['liz', 1.73, 'emma', 1.68, 'mom', 1.71, 'dad', 1.89, 'me']\n",
      "['liz', 1.73, 'emma', 1.68, 'mom', 1.71, 'dad', 1.89, 'me', 1.8]\n"
     ]
    }
   ],
   "source": [
    "fam = [\"liz\", 1.73, \"emma\", 1.68, \"mom\", 1.71, \"dad\", 1.89]\n",
    "fam.append(\"me\")   # unlike R, you don't have to \"capture\" the result of the function. \n",
    "# the list itself is modified. You can only append one item.\n",
    "print(fam)\n",
    "\n",
    "fam = fam + [1.8]  # you can also append to a list with the addition `+` operator\n",
    "# note that this output needs to be 'captured' and assigned back to fam\n",
    "print(fam)"
   ]
  },
  {
   "cell_type": "markdown",
   "metadata": {},
   "source": [
    "- `list.insert(i, x)`\n",
    "    - Insert an item at a given position. The first argument is the index of the element before which to insert, so `list.insert(0, x)` inserts at the front of the list, and `list.insert(len(a), x)` is equivalent to `list.append(x)`.\n",
    "\n",
    "- `list.extend(iterable)`\n",
    "    - Extend the list by appending all the items from the iterable. Equivalent to `list[len(a):] = iterable`."
   ]
  },
  {
   "cell_type": "code",
   "execution_count": 7,
   "metadata": {},
   "outputs": [
    {
     "name": "stdout",
     "output_type": "stream",
     "text": [
      "9\n",
      "['liz', 1.73, 'emma', 1.68, 'mom', 1.71, 'dad', 1.89, 'end']\n"
     ]
    }
   ],
   "source": [
    "# method 1\n",
    "# add an item by the end of the list\n",
    "fam = [\"liz\", 1.73, \"emma\", 1.68, \"mom\", 1.71, \"dad\", 1.89]\n",
    "fam.insert(len(fam),\"end\")\n",
    "print(len(fam))\n",
    "print(fam)"
   ]
  },
  {
   "cell_type": "code",
   "execution_count": 16,
   "metadata": {
    "scrolled": true
   },
   "outputs": [
    {
     "name": "stdout",
     "output_type": "stream",
     "text": [
      "['liz', 1.73, 'emma', 1.68, 'mom', 1.71, 'dad', 1.89, 'end']\n"
     ]
    }
   ],
   "source": [
    "# method 2\n",
    "# add an item by the end of the list\n",
    "fam = [\"liz\", 1.73, \"emma\", 1.68, \"mom\", 1.71, \"dad\", 1.89]\n",
    "fam.append(\"end\")\n",
    "print(fam)"
   ]
  },
  {
   "cell_type": "code",
   "execution_count": 4,
   "metadata": {},
   "outputs": [
    {
     "name": "stdout",
     "output_type": "stream",
     "text": [
      "['liz', 1.73, 'emma', 1.68, 'joe', 'mom', 1.71, 'dad', 1.89]\n",
      "['liz', 1.73, 'emma', 1.68, 2.0, 'mom', 1.71, 'dad', 1.89]\n",
      "['liz', 1.73, 'emma', 1.68, ['joe', 2.0], 'mom', 1.71, 'dad', 1.89]\n"
     ]
    },
    {
     "ename": "TypeError",
     "evalue": "insert() takes exactly 2 arguments (3 given)",
     "output_type": "error",
     "traceback": [
      "\u001b[1;31m---------------------------------------------------------------------------\u001b[0m",
      "\u001b[1;31mTypeError\u001b[0m                                 Traceback (most recent call last)",
      "\u001b[1;32m<ipython-input-4-4a84aa938626>\u001b[0m in \u001b[0;36m<module>\u001b[1;34m()\u001b[0m\n\u001b[0;32m     12\u001b[0m \u001b[1;33m\u001b[0m\u001b[0m\n\u001b[0;32m     13\u001b[0m \u001b[0mfam\u001b[0m \u001b[1;33m=\u001b[0m \u001b[1;33m[\u001b[0m\u001b[1;34m\"liz\"\u001b[0m\u001b[1;33m,\u001b[0m \u001b[1;36m1.73\u001b[0m\u001b[1;33m,\u001b[0m \u001b[1;34m\"emma\"\u001b[0m\u001b[1;33m,\u001b[0m \u001b[1;36m1.68\u001b[0m\u001b[1;33m,\u001b[0m \u001b[1;34m\"mom\"\u001b[0m\u001b[1;33m,\u001b[0m \u001b[1;36m1.71\u001b[0m\u001b[1;33m,\u001b[0m \u001b[1;34m\"dad\"\u001b[0m\u001b[1;33m,\u001b[0m \u001b[1;36m1.89\u001b[0m\u001b[1;33m]\u001b[0m\u001b[1;33m\u001b[0m\u001b[0m\n\u001b[1;32m---> 14\u001b[1;33m \u001b[0mfam\u001b[0m\u001b[1;33m.\u001b[0m\u001b[0minsert\u001b[0m\u001b[1;33m(\u001b[0m\u001b[1;36m4\u001b[0m\u001b[1;33m,\u001b[0m \u001b[1;34m\"joe\"\u001b[0m\u001b[1;33m,\u001b[0m \u001b[1;36m2.0\u001b[0m\u001b[1;33m)\u001b[0m  \u001b[1;31m# like append, you can only insert one item\u001b[0m\u001b[1;33m\u001b[0m\u001b[0m\n\u001b[0m\u001b[0;32m     15\u001b[0m \u001b[0mprint\u001b[0m\u001b[1;33m(\u001b[0m\u001b[0mfam\u001b[0m\u001b[1;33m)\u001b[0m\u001b[1;33m\u001b[0m\u001b[0m\n",
      "\u001b[1;31mTypeError\u001b[0m: insert() takes exactly 2 arguments (3 given)"
     ]
    }
   ],
   "source": [
    "fam = [\"liz\", 1.73, \"emma\", 1.68, \"mom\", 1.71, \"dad\", 1.89]\n",
    "fam.insert(4, \"joe\")\n",
    "print(fam)\n",
    "\n",
    "fam = [\"liz\", 1.73, \"emma\", 1.68, \"mom\", 1.71, \"dad\", 1.89]\n",
    "fam.insert(4, 2.0)  \n",
    "print(fam)\n",
    "\n",
    "fam = [\"liz\", 1.73, \"emma\", 1.68, \"mom\", 1.71, \"dad\", 1.89]\n",
    "fam.insert(4, [\"joe\", 2.0])  # trying to insert a list inserts a list\n",
    "print(fam)\n",
    "\n",
    "fam = [\"liz\", 1.73, \"emma\", 1.68, \"mom\", 1.71, \"dad\", 1.89]\n",
    "fam.insert(4, \"joe\", 2.0)  # like append, you can only insert one item\n",
    "print(fam)"
   ]
  },
  {
   "cell_type": "code",
   "execution_count": 20,
   "metadata": {
    "scrolled": true
   },
   "outputs": [
    {
     "name": "stdout",
     "output_type": "stream",
     "text": [
      "['liz', 1.73, 'emma', 1.68, 'mom', 1.71, 'dad', 1.89, 'joe', 2.0]\n",
      "['liz', 1.73, 'emma', 1.68, 'mom', 1.71, 'dad', 1.89, ['joe', 2.0], ['joe', 2.0]]\n",
      "['liz', 1.73, 'emma', 1.68, 'joe', 2.0, 'mom', 1.71, 'dad', 1.89]\n",
      "['liz', 1.73, 'emma', 1.68, ['joe', 2.0], 'mom', 1.71, 'dad', 1.89]\n"
     ]
    }
   ],
   "source": [
    "fam = [\"liz\", 1.73, \"emma\", 1.68, \"mom\", 1.71, \"dad\", 1.89]\n",
    "fam.extend([\"joe\", 2.0]) # lets you add multiple items, but at the end\n",
    "print(fam)\n",
    "\n",
    "fam = [\"liz\", 1.73, \"emma\", 1.68, \"mom\", 1.71, \"dad\", 1.89]\n",
    "fam.extend([[\"joe\", 2.0],[\"joe\", 2.0]]) # lets you add multiple items, but at the end\n",
    "print(fam)\n",
    "\n",
    "fam = [\"liz\", 1.73, \"emma\", 1.68, \"mom\", 1.71, \"dad\", 1.89]\n",
    "fam[4:4] = [\"joe\", 2.0] # Use slice and assignment to insert multiple items in a specific position\n",
    "print(fam)\n",
    "\n",
    "fam = [\"liz\", 1.73, \"emma\", 1.68, \"mom\", 1.71, \"dad\", 1.89]\n",
    "fam[4:4] = [[\"joe\", 2.0]] # Use slice and assignment to insert multiple items in a specific position\n",
    "print(fam)"
   ]
  },
  {
   "cell_type": "markdown",
   "metadata": {},
   "source": [
    "### shallow versus deep copy\n",
    "\n",
    "(You will not be quizzed on this concept.)\n",
    "\n",
    "There are actually two ways to make a copy:\n",
    "- shallow copy: `list.copy()`\n",
    "and \n",
    "- deep copy: `import copy\n",
    "copy.deepcopy(list)`\n",
    "\n",
    "The difference is noticeable when you have other objects (e.g. other lists) nested in lists.\n",
    "\n",
    "- A shallow copy makes a copy of the list with references to the nested objects\n",
    "- A deep copy makes copies of the nested objects."
   ]
  },
  {
   "cell_type": "code",
   "execution_count": 21,
   "metadata": {},
   "outputs": [
    {
     "name": "stdout",
     "output_type": "stream",
     "text": [
      "[['a', 1, 2], ['b', 3, 4]]\n",
      "[['a', 1, 2], ['b', 3, 4]]\n",
      "[['a', 1, 2], 'x']\n",
      "[['a', 1, 2], 'x']\n"
     ]
    }
   ],
   "source": [
    "a = [\"a\", 1, 2]\n",
    "b = [\"b\", 3, 4]\n",
    "c = [a, b]\n",
    "\n",
    "d = c  # i am not making a copy. both d and c refer to the exact same object.\n",
    "print(c)\n",
    "print(d)\n",
    "c[1] = \"x\"  # this change affects both\n",
    "print(c)\n",
    "print(d)"
   ]
  },
  {
   "cell_type": "code",
   "execution_count": 5,
   "metadata": {},
   "outputs": [
    {
     "name": "stdout",
     "output_type": "stream",
     "text": [
      "[['a', 1, 2], 'x']\n",
      "[['a', 1, 2], ['b', 3, 4]]\n",
      "[['a', 1, 2, 100], 'x']\n",
      "[['a', 1, 2, 100], ['b', 3, 4]]\n"
     ]
    }
   ],
   "source": [
    "# shallow copy:\n",
    "a = [\"a\", 1, 2]\n",
    "b = [\"b\", 3, 4]\n",
    "c = [a, b]\n",
    "\n",
    "d = c.copy()\n",
    "c[1] = \"x\"  # this change affects only c. it does not affect d because d is a copy.\n",
    "print(c)\n",
    "print(d)\n",
    "\n",
    "a.append(100) # We update list a. Lists c and d refer to list a. So this change affects c and d\n",
    "print(c)\n",
    "print(d)"
   ]
  },
  {
   "cell_type": "code",
   "execution_count": 29,
   "metadata": {},
   "outputs": [
    {
     "name": "stdout",
     "output_type": "stream",
     "text": [
      "[['a', 1, 2], 'x']\n",
      "[['a', 1, 2], ['b', 3, 4]]\n",
      "[['a', 1, 2, 100], 'x']\n",
      "[['a', 1, 2], ['b', 3, 4]]\n"
     ]
    }
   ],
   "source": [
    "# deep copy:\n",
    "a = [\"a\", 1, 2]\n",
    "b = [\"b\", 3, 4]\n",
    "c = [a, b]\n",
    "\n",
    "import copy\n",
    "e = copy.deepcopy(c)\n",
    "\n",
    "c[1] = \"x\"  # this change affects only c. it does not affect e because e is a copy\n",
    "print(c)\n",
    "print(e)\n",
    "\n",
    "a.append(100) # lists c refers to list a, but e made a copy of list a. So this change affects only c but not e\n",
    "print(c)\n",
    "print(e)"
   ]
  },
  {
   "cell_type": "markdown",
   "metadata": {},
   "source": [
    "- `list.remove(x)`\n",
    "    - Remove the first item from the list whose value is x. It is an error if there is no such item.\n",
    "\n",
    "- `list.pop([i])`\n",
    "    - Remove the item at the given position in the list, and return it. If no index is specified, a.pop() removes and returns the last item in the list.\n",
    "\n",
    "- `list.clear()`\n",
    "    - Remove all items from the list. Equivalent to del a[:].\n"
   ]
  },
  {
   "cell_type": "code",
   "execution_count": 22,
   "metadata": {
    "scrolled": true
   },
   "outputs": [
    {
     "name": "stdout",
     "output_type": "stream",
     "text": [
      "[1.73, 'liz', 1.68, 'mom', 1.71, 'dad', 1.89]\n"
     ]
    }
   ],
   "source": [
    "fam = [\"liz\", 1.73, \"liz\", 1.68, \"mom\", 1.71, \"dad\", 1.89]\n",
    "fam.remove(\"liz\")\n",
    "print(fam)"
   ]
  },
  {
   "cell_type": "code",
   "execution_count": 23,
   "metadata": {},
   "outputs": [
    {
     "name": "stdout",
     "output_type": "stream",
     "text": [
      "1.89\n",
      "['liz', 1.73, 'emma', 1.68, 'mom', 1.71, 'dad']\n"
     ]
    }
   ],
   "source": [
    "fam = [\"liz\", 1.73, \"emma\", 1.68, \"mom\", 1.71, \"dad\", 1.89]\n",
    "j = fam.pop()  # if you don't specify an index, it pops the last item in the list\n",
    "               # show which item will be remove\n",
    "print(j)\n",
    "print(fam)"
   ]
  },
  {
   "cell_type": "code",
   "execution_count": 25,
   "metadata": {},
   "outputs": [
    {
     "name": "stdout",
     "output_type": "stream",
     "text": [
      "emma\n",
      "['liz', 1.73, 1.68, 'mom', 1.71, 'dad', 1.89]\n",
      "[]\n",
      "[]\n"
     ]
    }
   ],
   "source": [
    "fam = [\"liz\", 1.73, \"emma\", 1.68, \"mom\", 1.71, \"dad\", 1.89]\n",
    "j = fam.pop(2)  # you can also specify an index\n",
    "print(j)\n",
    "print(fam)\n",
    "\n",
    "fam.clear()\n",
    "print(fam)\n",
    "\n",
    "fam = [\"liz\", 1.73, \"emma\", 1.68, \"mom\", 1.71, \"dad\", 1.89]\n",
    "del fam[:]\n",
    "print(fam)"
   ]
  },
  {
   "cell_type": "markdown",
   "metadata": {},
   "source": [
    "- `list.index(x)`\n",
    "    - Return zero-based index in the list of the first item whose value is x. Raises a ValueError if there is no such item.\n",
    "\n",
    "- `list.count(x)`\n",
    "    - Return the number of times x appears in the list."
   ]
  },
  {
   "cell_type": "code",
   "execution_count": 29,
   "metadata": {},
   "outputs": [
    {
     "name": "stdout",
     "output_type": "stream",
     "text": [
      "2\n",
      "4\n"
     ]
    }
   ],
   "source": [
    "fam = [\"liz\", 1.73, \"emma\", 1.68, \"mom\", 1.71, \"dad\", 1.89]\n",
    "print(fam.index(\"emma\"))    # index the position for the item\n",
    "print(fam.index(\"mom\"))"
   ]
  },
  {
   "cell_type": "code",
   "execution_count": 34,
   "metadata": {},
   "outputs": [
    {
     "name": "stdout",
     "output_type": "stream",
     "text": [
      "3\n",
      "0\n",
      "1\n"
     ]
    }
   ],
   "source": [
    "letters = [\"a\", \"b\", \"c\", \"a\", \"a\"]\n",
    "print(letters.count(\"a\"))\n",
    "\n",
    "fam2 = [[\"liz\", 1.73],\n",
    "[\"emma\", 1.68],\n",
    "[\"mom\", 1.71],\n",
    "[\"dad\", 1.89]]\n",
    "print(fam2.count(\"liz\"))  # the string by itself does not exist\n",
    "print(fam2.count([\"liz\", 1.73])) # per nested list count as one element "
   ]
  },
  {
   "cell_type": "markdown",
   "metadata": {},
   "source": [
    "- `list.sort(key=None, reverse=False)`\n",
    "    - Sort the items of the list in place (the arguments can be used for sort customization, see sorted() for their explanation).\n",
    "    - reverse = False for increasing (default)\n",
    "    - reverse = True for decreasing\n",
    "\n",
    "- `list.reverse()`\n",
    "    - Reverse the elements of the list in place."
   ]
  },
  {
   "cell_type": "code",
   "execution_count": 3,
   "metadata": {
    "scrolled": true
   },
   "outputs": [
    {
     "name": "stdout",
     "output_type": "stream",
     "text": [
      "['liz', 1.73, 'emma', 1.68, 'mom', 1.71, 'dad', 1.89]\n",
      "[1.89, 'dad', 1.71, 'mom', 1.68, 'emma', 1.73, 'liz']\n"
     ]
    }
   ],
   "source": [
    "print(fam)\n",
    "fam.reverse()\n",
    "print(fam)"
   ]
  },
  {
   "cell_type": "code",
   "execution_count": 4,
   "metadata": {},
   "outputs": [
    {
     "ename": "TypeError",
     "evalue": "'<' not supported between instances of 'str' and 'float'",
     "output_type": "error",
     "traceback": [
      "\u001b[1;31m---------------------------------------------------------------------------\u001b[0m",
      "\u001b[1;31mTypeError\u001b[0m                                 Traceback (most recent call last)",
      "\u001b[1;32m<ipython-input-4-b0f2370e264b>\u001b[0m in \u001b[0;36m<module>\u001b[1;34m()\u001b[0m\n\u001b[1;32m----> 1\u001b[1;33m \u001b[0mfam\u001b[0m\u001b[1;33m.\u001b[0m\u001b[0msort\u001b[0m\u001b[1;33m(\u001b[0m\u001b[1;33m)\u001b[0m  \u001b[1;31m# can't sort floats and string\u001b[0m\u001b[1;33m\u001b[0m\u001b[0m\n\u001b[0m",
      "\u001b[1;31mTypeError\u001b[0m: '<' not supported between instances of 'str' and 'float'"
     ]
    }
   ],
   "source": [
    "fam.sort()  # can't sort floats and string"
   ]
  },
  {
   "cell_type": "code",
   "execution_count": 28,
   "metadata": {},
   "outputs": [
    {
     "name": "stdout",
     "output_type": "stream",
     "text": [
      "['a', 'a', 'a', 'b', 'c']\n",
      "[1, 2, 4, 5, 6]\n",
      "[6, 5, 4, 2, 1]\n"
     ]
    }
   ],
   "source": [
    "letters = [\"a\", \"b\", \"c\", \"a\", \"a\"]\n",
    "letters.sort()\n",
    "print(letters)\n",
    "\n",
    "number = [1,4,6,2,5]\n",
    "number.sort()\n",
    "print(number)\n",
    "\n",
    "number = [1,4,6,2,5]\n",
    "number.sort(reverse=True)\n",
    "print(number)"
   ]
  },
  {
   "cell_type": "code",
   "execution_count": 5,
   "metadata": {},
   "outputs": [
    {
     "name": "stdout",
     "output_type": "stream",
     "text": [
      "[4, 2, 7, 9, 2, 5, 3]\n",
      "[2, 2, 3, 4, 5, 7, 9]\n",
      "[9, 7, 5, 4, 3, 2, 2]\n"
     ]
    }
   ],
   "source": [
    "some_digits = [4,2,7,9,2,5,3]\n",
    "print(some_digits)\n",
    "some_digits.sort()\n",
    "print(some_digits)\n",
    "\n",
    "some_digits.sort(reverse = True)\n",
    "print(some_digits)"
   ]
  },
  {
   "cell_type": "markdown",
   "metadata": {},
   "source": [
    "# String Methods\n",
    "\n",
    "strings are immutable. This means that when you use a method on a string, it does not modify the string itself. "
   ]
  },
  {
   "cell_type": "code",
   "execution_count": 31,
   "metadata": {},
   "outputs": [
    {
     "name": "stdout",
     "output_type": "stream",
     "text": [
      "MILES CHEN\n",
      "miles chen\n",
      "Miles chen\n",
      "Miles Chen\n",
      "mIles chEn\n",
      "MILES CHEN\n"
     ]
    }
   ],
   "source": [
    "name = \"mIles chEn\"\n",
    "print(name.upper())\n",
    "print(name.lower())\n",
    "print(name.capitalize())\n",
    "print(name.title())\n",
    "print(name) # string itself is not modified\n",
    "\n",
    "# but if we assign back, the string will be changing\n",
    "name = name.upper()\n",
    "print(name)"
   ]
  },
  {
   "cell_type": "code",
   "execution_count": 33,
   "metadata": {},
   "outputs": [
    {
     "data": {
      "text/plain": [
       "1"
      ]
     },
     "execution_count": 33,
     "metadata": {},
     "output_type": "execute_result"
    }
   ],
   "source": [
    "name = \"mIles chEn\"\n",
    "name.count(\"e\")"
   ]
  },
  {
   "cell_type": "code",
   "execution_count": 34,
   "metadata": {},
   "outputs": [
    {
     "data": {
      "text/plain": [
       "False"
      ]
     },
     "execution_count": 34,
     "metadata": {},
     "output_type": "execute_result"
    }
   ],
   "source": [
    "name.endswith(\"k\")"
   ]
  },
  {
   "cell_type": "code",
   "execution_count": 35,
   "metadata": {},
   "outputs": [
    {
     "data": {
      "text/plain": [
       "True"
      ]
     },
     "execution_count": 35,
     "metadata": {},
     "output_type": "execute_result"
    }
   ],
   "source": [
    "name.endswith(\"n\")"
   ]
  },
  {
   "cell_type": "code",
   "execution_count": 36,
   "metadata": {},
   "outputs": [
    {
     "name": "stdout",
     "output_type": "stream",
     "text": [
      "False\n",
      "True\n"
     ]
    }
   ],
   "source": [
    "print(name.startswith(\"M\"))\n",
    "print(name.startswith(\"m\"))"
   ]
  },
  {
   "cell_type": "code",
   "execution_count": 37,
   "metadata": {},
   "outputs": [
    {
     "name": "stdout",
     "output_type": "stream",
     "text": [
      "   miles chen  \n",
      "miles chen\n"
     ]
    }
   ],
   "source": [
    "name2 = \"   miles chen  \"\n",
    "print(name2)\n",
    "print(name2.strip())  # ignore the space in the beginning and the end"
   ]
  },
  {
   "cell_type": "code",
   "execution_count": 40,
   "metadata": {},
   "outputs": [
    {
     "name": "stdout",
     "output_type": "stream",
     "text": [
      "   miles chen  \n",
      "['miles', 'chen']\n",
      "<class 'list'>\n"
     ]
    }
   ],
   "source": [
    "print(name2)\n",
    "print(name2.split())\n",
    "print(type(name2.split()))"
   ]
  },
  {
   "cell_type": "code",
   "execution_count": 46,
   "metadata": {},
   "outputs": [
    {
     "name": "stdout",
     "output_type": "stream",
     "text": [
      "2;3;4;7;8\n",
      "<class 'str'>\n",
      "['2;3;4;7;8']\n",
      "<class 'list'>\n",
      "['2', '3', '4', '7', '8']\n",
      "<class 'list'>\n"
     ]
    }
   ],
   "source": [
    "num_string = \"2;3;4;7;8\"\n",
    "print(num_string)\n",
    "print(type(num_string))\n",
    "\n",
    "print(num_string.split())\n",
    "print(type(num_string.split()))\n",
    "\n",
    "print(num_string.split(';'))\n",
    "print(type(num_string.split(\";\")))"
   ]
  },
  {
   "cell_type": "code",
   "execution_count": 49,
   "metadata": {
    "scrolled": true
   },
   "outputs": [
    {
     "name": "stdout",
     "output_type": "stream",
     "text": [
      "['yan.jun.jun111501', '.com']\n",
      "<class 'list'>\n"
     ]
    }
   ],
   "source": [
    "num_string = \"yan.jun.jun111501@gmail.com\"\n",
    "print(num_string.split('@gmail'))\n",
    "print(type(num_string.split(\"@gamil\")))"
   ]
  },
  {
   "cell_type": "code",
   "execution_count": 50,
   "metadata": {
    "scrolled": true
   },
   "outputs": [
    {
     "name": "stdout",
     "output_type": "stream",
     "text": [
      "mIles chEn\n",
      "False\n",
      "True\n"
     ]
    }
   ],
   "source": [
    "print(name)\n",
    "print(name.isalpha()) # has a space, so it is not strictly alpha\n",
    "name3 = \"abba\"\n",
    "print(name3.isalpha())"
   ]
  },
  {
   "cell_type": "code",
   "execution_count": 51,
   "metadata": {
    "scrolled": true
   },
   "outputs": [
    {
     "name": "stdout",
     "output_type": "stream",
     "text": [
      "LYRICS TO THE SONG HALLELUJAH\n",
      "WELL I'VE HEARD THERE WAS A SECRET CHORD\n",
      "THAT DAVID PLAYED AND IT PLEASED THE LORD\n",
      "BUT YOU DON'T REALLY CARE FOR MUSIC, DO YOU?\n",
      "['Lyrics', 'to', 'the', 'song', 'Hallelujah', 'Well', \"I've\", 'heard', 'there', 'was', 'a', 'secret', 'chord', 'That', 'David', 'played', 'and', 'it', 'pleased', 'the', 'Lord', 'But', 'you', \"don't\", 'really', 'care', 'for', 'music,', 'do', 'you?']\n"
     ]
    }
   ],
   "source": [
    "# strings can span multiple lines with triple quotes \n",
    "long_string = \"\"\"Lyrics to the song Hallelujah\n",
    "Well I've heard there was a secret chord\n",
    "That David played and it pleased the Lord\n",
    "But you don't really care for music, do you?\"\"\"\n",
    "shout = long_string.upper()\n",
    "print(shout)\n",
    "word_list = long_string.split() # separates at spaces\n",
    "print(word_list)"
   ]
  },
  {
   "cell_type": "code",
   "execution_count": 86,
   "metadata": {
    "scrolled": true
   },
   "outputs": [
    {
     "data": {
      "text/plain": [
       "['Lyrics to the song Hallelujah',\n",
       " \"Well I've heard there was a secret chord\",\n",
       " 'That David played and it pleased the Lord',\n",
       " \"But you don't really care for music, do you?\"]"
      ]
     },
     "execution_count": 86,
     "metadata": {},
     "output_type": "execute_result"
    }
   ],
   "source": [
    "long_string.splitlines() # separates at line ends"
   ]
  },
  {
   "cell_type": "code",
   "execution_count": 87,
   "metadata": {
    "scrolled": false
   },
   "outputs": [
    {
     "data": {
      "text/plain": [
       "15"
      ]
     },
     "execution_count": 87,
     "metadata": {},
     "output_type": "execute_result"
    }
   ],
   "source": [
    "long_string.count(\"e\")"
   ]
  },
  {
   "cell_type": "code",
   "execution_count": 89,
   "metadata": {},
   "outputs": [
    {
     "data": {
      "text/plain": [
       "7"
      ]
     },
     "execution_count": 89,
     "metadata": {},
     "output_type": "execute_result"
    }
   ],
   "source": [
    "long_string.find(\"t\")"
   ]
  }
 ],
 "metadata": {
  "kernelspec": {
   "display_name": "Python 3",
   "language": "python",
   "name": "python3"
  },
  "language_info": {
   "codemirror_mode": {
    "name": "ipython",
    "version": 3
   },
   "file_extension": ".py",
   "mimetype": "text/x-python",
   "name": "python",
   "nbconvert_exporter": "python",
   "pygments_lexer": "ipython3",
   "version": "3.6.4"
  }
 },
 "nbformat": 4,
 "nbformat_minor": 2
}
