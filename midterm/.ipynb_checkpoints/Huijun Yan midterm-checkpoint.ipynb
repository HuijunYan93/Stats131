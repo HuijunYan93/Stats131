{
 "cells": [
  {
   "cell_type": "code",
   "execution_count": 2,
   "metadata": {},
   "outputs": [],
   "source": [
    "import pandas as pd\n",
    "import numpy as np\n",
    "import matplotlib.pyplot as plt\n",
    "import seaborn as sns\n",
    "from sklearn import linear_model"
   ]
  },
  {
   "cell_type": "code",
   "execution_count": 3,
   "metadata": {},
   "outputs": [],
   "source": [
    "bmx = pd.read_sas('BMX_I.XPT')"
   ]
  },
  {
   "cell_type": "code",
   "execution_count": 4,
   "metadata": {
    "scrolled": true
   },
   "outputs": [
    {
     "data": {
      "text/html": [
       "<div>\n",
       "<style scoped>\n",
       "    .dataframe tbody tr th:only-of-type {\n",
       "        vertical-align: middle;\n",
       "    }\n",
       "\n",
       "    .dataframe tbody tr th {\n",
       "        vertical-align: top;\n",
       "    }\n",
       "\n",
       "    .dataframe thead th {\n",
       "        text-align: right;\n",
       "    }\n",
       "</style>\n",
       "<table border=\"1\" class=\"dataframe\">\n",
       "  <thead>\n",
       "    <tr style=\"text-align: right;\">\n",
       "      <th></th>\n",
       "      <th>SEQN</th>\n",
       "      <th>BMDSTATS</th>\n",
       "      <th>BMXWT</th>\n",
       "      <th>BMIWT</th>\n",
       "      <th>BMXRECUM</th>\n",
       "      <th>BMIRECUM</th>\n",
       "      <th>BMXHEAD</th>\n",
       "      <th>BMIHEAD</th>\n",
       "      <th>BMXHT</th>\n",
       "      <th>BMIHT</th>\n",
       "      <th>...</th>\n",
       "      <th>BMXARMC</th>\n",
       "      <th>BMIARMC</th>\n",
       "      <th>BMXWAIST</th>\n",
       "      <th>BMIWAIST</th>\n",
       "      <th>BMXSAD1</th>\n",
       "      <th>BMXSAD2</th>\n",
       "      <th>BMXSAD3</th>\n",
       "      <th>BMXSAD4</th>\n",
       "      <th>BMDAVSAD</th>\n",
       "      <th>BMDSADCM</th>\n",
       "    </tr>\n",
       "  </thead>\n",
       "  <tbody>\n",
       "    <tr>\n",
       "      <th>0</th>\n",
       "      <td>83732.0</td>\n",
       "      <td>1.0</td>\n",
       "      <td>94.8</td>\n",
       "      <td>NaN</td>\n",
       "      <td>NaN</td>\n",
       "      <td>NaN</td>\n",
       "      <td>NaN</td>\n",
       "      <td>NaN</td>\n",
       "      <td>184.5</td>\n",
       "      <td>NaN</td>\n",
       "      <td>...</td>\n",
       "      <td>35.9</td>\n",
       "      <td>NaN</td>\n",
       "      <td>101.1</td>\n",
       "      <td>NaN</td>\n",
       "      <td>22.9</td>\n",
       "      <td>22.7</td>\n",
       "      <td>NaN</td>\n",
       "      <td>NaN</td>\n",
       "      <td>22.8</td>\n",
       "      <td>NaN</td>\n",
       "    </tr>\n",
       "    <tr>\n",
       "      <th>1</th>\n",
       "      <td>83733.0</td>\n",
       "      <td>1.0</td>\n",
       "      <td>90.4</td>\n",
       "      <td>NaN</td>\n",
       "      <td>NaN</td>\n",
       "      <td>NaN</td>\n",
       "      <td>NaN</td>\n",
       "      <td>NaN</td>\n",
       "      <td>171.4</td>\n",
       "      <td>NaN</td>\n",
       "      <td>...</td>\n",
       "      <td>33.2</td>\n",
       "      <td>NaN</td>\n",
       "      <td>107.9</td>\n",
       "      <td>NaN</td>\n",
       "      <td>27.5</td>\n",
       "      <td>27.1</td>\n",
       "      <td>NaN</td>\n",
       "      <td>NaN</td>\n",
       "      <td>27.3</td>\n",
       "      <td>NaN</td>\n",
       "    </tr>\n",
       "    <tr>\n",
       "      <th>2</th>\n",
       "      <td>83734.0</td>\n",
       "      <td>1.0</td>\n",
       "      <td>83.4</td>\n",
       "      <td>NaN</td>\n",
       "      <td>NaN</td>\n",
       "      <td>NaN</td>\n",
       "      <td>NaN</td>\n",
       "      <td>NaN</td>\n",
       "      <td>170.1</td>\n",
       "      <td>NaN</td>\n",
       "      <td>...</td>\n",
       "      <td>31.0</td>\n",
       "      <td>NaN</td>\n",
       "      <td>116.5</td>\n",
       "      <td>NaN</td>\n",
       "      <td>26.7</td>\n",
       "      <td>26.5</td>\n",
       "      <td>NaN</td>\n",
       "      <td>NaN</td>\n",
       "      <td>26.6</td>\n",
       "      <td>NaN</td>\n",
       "    </tr>\n",
       "    <tr>\n",
       "      <th>3</th>\n",
       "      <td>83735.0</td>\n",
       "      <td>1.0</td>\n",
       "      <td>109.8</td>\n",
       "      <td>NaN</td>\n",
       "      <td>NaN</td>\n",
       "      <td>NaN</td>\n",
       "      <td>NaN</td>\n",
       "      <td>NaN</td>\n",
       "      <td>160.9</td>\n",
       "      <td>NaN</td>\n",
       "      <td>...</td>\n",
       "      <td>38.3</td>\n",
       "      <td>NaN</td>\n",
       "      <td>110.1</td>\n",
       "      <td>NaN</td>\n",
       "      <td>25.2</td>\n",
       "      <td>25.0</td>\n",
       "      <td>NaN</td>\n",
       "      <td>NaN</td>\n",
       "      <td>25.1</td>\n",
       "      <td>NaN</td>\n",
       "    </tr>\n",
       "    <tr>\n",
       "      <th>4</th>\n",
       "      <td>83736.0</td>\n",
       "      <td>3.0</td>\n",
       "      <td>55.2</td>\n",
       "      <td>NaN</td>\n",
       "      <td>NaN</td>\n",
       "      <td>NaN</td>\n",
       "      <td>NaN</td>\n",
       "      <td>NaN</td>\n",
       "      <td>164.9</td>\n",
       "      <td>NaN</td>\n",
       "      <td>...</td>\n",
       "      <td>27.2</td>\n",
       "      <td>NaN</td>\n",
       "      <td>80.4</td>\n",
       "      <td>NaN</td>\n",
       "      <td>NaN</td>\n",
       "      <td>NaN</td>\n",
       "      <td>NaN</td>\n",
       "      <td>NaN</td>\n",
       "      <td>NaN</td>\n",
       "      <td>NaN</td>\n",
       "    </tr>\n",
       "  </tbody>\n",
       "</table>\n",
       "<p>5 rows × 26 columns</p>\n",
       "</div>"
      ],
      "text/plain": [
       "      SEQN  BMDSTATS  BMXWT  BMIWT  BMXRECUM  BMIRECUM  BMXHEAD  BMIHEAD  \\\n",
       "0  83732.0       1.0   94.8    NaN       NaN       NaN      NaN      NaN   \n",
       "1  83733.0       1.0   90.4    NaN       NaN       NaN      NaN      NaN   \n",
       "2  83734.0       1.0   83.4    NaN       NaN       NaN      NaN      NaN   \n",
       "3  83735.0       1.0  109.8    NaN       NaN       NaN      NaN      NaN   \n",
       "4  83736.0       3.0   55.2    NaN       NaN       NaN      NaN      NaN   \n",
       "\n",
       "   BMXHT  BMIHT    ...     BMXARMC  BMIARMC  BMXWAIST  BMIWAIST  BMXSAD1  \\\n",
       "0  184.5    NaN    ...        35.9      NaN     101.1       NaN     22.9   \n",
       "1  171.4    NaN    ...        33.2      NaN     107.9       NaN     27.5   \n",
       "2  170.1    NaN    ...        31.0      NaN     116.5       NaN     26.7   \n",
       "3  160.9    NaN    ...        38.3      NaN     110.1       NaN     25.2   \n",
       "4  164.9    NaN    ...        27.2      NaN      80.4       NaN      NaN   \n",
       "\n",
       "   BMXSAD2  BMXSAD3  BMXSAD4  BMDAVSAD  BMDSADCM  \n",
       "0     22.7      NaN      NaN      22.8       NaN  \n",
       "1     27.1      NaN      NaN      27.3       NaN  \n",
       "2     26.5      NaN      NaN      26.6       NaN  \n",
       "3     25.0      NaN      NaN      25.1       NaN  \n",
       "4      NaN      NaN      NaN       NaN       NaN  \n",
       "\n",
       "[5 rows x 26 columns]"
      ]
     },
     "execution_count": 4,
     "metadata": {},
     "output_type": "execute_result"
    }
   ],
   "source": [
    "bmx.head()"
   ]
  },
  {
   "cell_type": "code",
   "execution_count": 5,
   "metadata": {},
   "outputs": [
    {
     "name": "stdout",
     "output_type": "stream",
     "text": [
      "(9544, 26)\n"
     ]
    }
   ],
   "source": [
    "print(bmx.shape)"
   ]
  },
  {
   "cell_type": "code",
   "execution_count": 6,
   "metadata": {},
   "outputs": [
    {
     "name": "stdout",
     "output_type": "stream",
     "text": [
      "<class 'pandas.core.frame.DataFrame'>\n",
      "RangeIndex: 9544 entries, 0 to 9543\n",
      "Data columns (total 26 columns):\n",
      "SEQN        9544 non-null float64\n",
      "BMDSTATS    9544 non-null float64\n",
      "BMXWT       9445 non-null float64\n",
      "BMIWT       443 non-null float64\n",
      "BMXRECUM    1073 non-null float64\n",
      "BMIRECUM    33 non-null float64\n",
      "BMXHEAD     215 non-null float64\n",
      "BMIHEAD     0 non-null float64\n",
      "BMXHT       8769 non-null float64\n",
      "BMIHT       105 non-null float64\n",
      "BMXBMI      8756 non-null float64\n",
      "BMDBMIC     3340 non-null float64\n",
      "BMXLEG      7110 non-null float64\n",
      "BMILEG      402 non-null float64\n",
      "BMXARML     8976 non-null float64\n",
      "BMIARML     420 non-null float64\n",
      "BMXARMC     8976 non-null float64\n",
      "BMIARMC     421 non-null float64\n",
      "BMXWAIST    8313 non-null float64\n",
      "BMIWAIST    489 non-null float64\n",
      "BMXSAD1     6983 non-null float64\n",
      "BMXSAD2     6983 non-null float64\n",
      "BMXSAD3     353 non-null float64\n",
      "BMXSAD4     353 non-null float64\n",
      "BMDAVSAD    6983 non-null float64\n",
      "BMDSADCM    446 non-null float64\n",
      "dtypes: float64(26)\n",
      "memory usage: 1.9 MB\n"
     ]
    }
   ],
   "source": [
    "bmx.info()"
   ]
  },
  {
   "cell_type": "code",
   "execution_count": 7,
   "metadata": {},
   "outputs": [],
   "source": [
    "demo = pd.read_sas('DEMO_I.XPT')"
   ]
  },
  {
   "cell_type": "code",
   "execution_count": 8,
   "metadata": {},
   "outputs": [
    {
     "name": "stdout",
     "output_type": "stream",
     "text": [
      "(9971, 47)\n"
     ]
    }
   ],
   "source": [
    "print(demo.shape)"
   ]
  },
  {
   "cell_type": "code",
   "execution_count": 9,
   "metadata": {},
   "outputs": [
    {
     "data": {
      "text/html": [
       "<div>\n",
       "<style scoped>\n",
       "    .dataframe tbody tr th:only-of-type {\n",
       "        vertical-align: middle;\n",
       "    }\n",
       "\n",
       "    .dataframe tbody tr th {\n",
       "        vertical-align: top;\n",
       "    }\n",
       "\n",
       "    .dataframe thead th {\n",
       "        text-align: right;\n",
       "    }\n",
       "</style>\n",
       "<table border=\"1\" class=\"dataframe\">\n",
       "  <thead>\n",
       "    <tr style=\"text-align: right;\">\n",
       "      <th></th>\n",
       "      <th>SEQN</th>\n",
       "      <th>SDDSRVYR</th>\n",
       "      <th>RIDSTATR</th>\n",
       "      <th>RIAGENDR</th>\n",
       "      <th>RIDAGEYR</th>\n",
       "      <th>RIDAGEMN</th>\n",
       "      <th>RIDRETH1</th>\n",
       "      <th>RIDRETH3</th>\n",
       "      <th>RIDEXMON</th>\n",
       "      <th>RIDEXAGM</th>\n",
       "      <th>...</th>\n",
       "      <th>DMDHREDU</th>\n",
       "      <th>DMDHRMAR</th>\n",
       "      <th>DMDHSEDU</th>\n",
       "      <th>WTINT2YR</th>\n",
       "      <th>WTMEC2YR</th>\n",
       "      <th>SDMVPSU</th>\n",
       "      <th>SDMVSTRA</th>\n",
       "      <th>INDHHIN2</th>\n",
       "      <th>INDFMIN2</th>\n",
       "      <th>INDFMPIR</th>\n",
       "    </tr>\n",
       "  </thead>\n",
       "  <tbody>\n",
       "    <tr>\n",
       "      <th>0</th>\n",
       "      <td>83732.0</td>\n",
       "      <td>9.0</td>\n",
       "      <td>2.0</td>\n",
       "      <td>1.0</td>\n",
       "      <td>62.0</td>\n",
       "      <td>NaN</td>\n",
       "      <td>3.0</td>\n",
       "      <td>3.0</td>\n",
       "      <td>1.0</td>\n",
       "      <td>NaN</td>\n",
       "      <td>...</td>\n",
       "      <td>5.0</td>\n",
       "      <td>1.0</td>\n",
       "      <td>3.0</td>\n",
       "      <td>134671.370419</td>\n",
       "      <td>135629.507405</td>\n",
       "      <td>1.0</td>\n",
       "      <td>125.0</td>\n",
       "      <td>10.0</td>\n",
       "      <td>10.0</td>\n",
       "      <td>4.39</td>\n",
       "    </tr>\n",
       "    <tr>\n",
       "      <th>1</th>\n",
       "      <td>83733.0</td>\n",
       "      <td>9.0</td>\n",
       "      <td>2.0</td>\n",
       "      <td>1.0</td>\n",
       "      <td>53.0</td>\n",
       "      <td>NaN</td>\n",
       "      <td>3.0</td>\n",
       "      <td>3.0</td>\n",
       "      <td>1.0</td>\n",
       "      <td>NaN</td>\n",
       "      <td>...</td>\n",
       "      <td>3.0</td>\n",
       "      <td>3.0</td>\n",
       "      <td>NaN</td>\n",
       "      <td>24328.560239</td>\n",
       "      <td>25282.425927</td>\n",
       "      <td>1.0</td>\n",
       "      <td>125.0</td>\n",
       "      <td>4.0</td>\n",
       "      <td>4.0</td>\n",
       "      <td>1.32</td>\n",
       "    </tr>\n",
       "    <tr>\n",
       "      <th>2</th>\n",
       "      <td>83734.0</td>\n",
       "      <td>9.0</td>\n",
       "      <td>2.0</td>\n",
       "      <td>1.0</td>\n",
       "      <td>78.0</td>\n",
       "      <td>NaN</td>\n",
       "      <td>3.0</td>\n",
       "      <td>3.0</td>\n",
       "      <td>2.0</td>\n",
       "      <td>NaN</td>\n",
       "      <td>...</td>\n",
       "      <td>3.0</td>\n",
       "      <td>1.0</td>\n",
       "      <td>3.0</td>\n",
       "      <td>12400.008522</td>\n",
       "      <td>12575.838818</td>\n",
       "      <td>1.0</td>\n",
       "      <td>131.0</td>\n",
       "      <td>5.0</td>\n",
       "      <td>5.0</td>\n",
       "      <td>1.51</td>\n",
       "    </tr>\n",
       "    <tr>\n",
       "      <th>3</th>\n",
       "      <td>83735.0</td>\n",
       "      <td>9.0</td>\n",
       "      <td>2.0</td>\n",
       "      <td>2.0</td>\n",
       "      <td>56.0</td>\n",
       "      <td>NaN</td>\n",
       "      <td>3.0</td>\n",
       "      <td>3.0</td>\n",
       "      <td>2.0</td>\n",
       "      <td>NaN</td>\n",
       "      <td>...</td>\n",
       "      <td>5.0</td>\n",
       "      <td>6.0</td>\n",
       "      <td>NaN</td>\n",
       "      <td>102717.995647</td>\n",
       "      <td>102078.634508</td>\n",
       "      <td>1.0</td>\n",
       "      <td>131.0</td>\n",
       "      <td>10.0</td>\n",
       "      <td>10.0</td>\n",
       "      <td>5.00</td>\n",
       "    </tr>\n",
       "    <tr>\n",
       "      <th>4</th>\n",
       "      <td>83736.0</td>\n",
       "      <td>9.0</td>\n",
       "      <td>2.0</td>\n",
       "      <td>2.0</td>\n",
       "      <td>42.0</td>\n",
       "      <td>NaN</td>\n",
       "      <td>4.0</td>\n",
       "      <td>4.0</td>\n",
       "      <td>2.0</td>\n",
       "      <td>NaN</td>\n",
       "      <td>...</td>\n",
       "      <td>4.0</td>\n",
       "      <td>3.0</td>\n",
       "      <td>NaN</td>\n",
       "      <td>17627.674984</td>\n",
       "      <td>18234.736219</td>\n",
       "      <td>2.0</td>\n",
       "      <td>126.0</td>\n",
       "      <td>7.0</td>\n",
       "      <td>7.0</td>\n",
       "      <td>1.23</td>\n",
       "    </tr>\n",
       "  </tbody>\n",
       "</table>\n",
       "<p>5 rows × 47 columns</p>\n",
       "</div>"
      ],
      "text/plain": [
       "      SEQN  SDDSRVYR  RIDSTATR  RIAGENDR  RIDAGEYR  RIDAGEMN  RIDRETH1  \\\n",
       "0  83732.0       9.0       2.0       1.0      62.0       NaN       3.0   \n",
       "1  83733.0       9.0       2.0       1.0      53.0       NaN       3.0   \n",
       "2  83734.0       9.0       2.0       1.0      78.0       NaN       3.0   \n",
       "3  83735.0       9.0       2.0       2.0      56.0       NaN       3.0   \n",
       "4  83736.0       9.0       2.0       2.0      42.0       NaN       4.0   \n",
       "\n",
       "   RIDRETH3  RIDEXMON  RIDEXAGM    ...     DMDHREDU  DMDHRMAR  DMDHSEDU  \\\n",
       "0       3.0       1.0       NaN    ...          5.0       1.0       3.0   \n",
       "1       3.0       1.0       NaN    ...          3.0       3.0       NaN   \n",
       "2       3.0       2.0       NaN    ...          3.0       1.0       3.0   \n",
       "3       3.0       2.0       NaN    ...          5.0       6.0       NaN   \n",
       "4       4.0       2.0       NaN    ...          4.0       3.0       NaN   \n",
       "\n",
       "        WTINT2YR       WTMEC2YR  SDMVPSU  SDMVSTRA  INDHHIN2  INDFMIN2  \\\n",
       "0  134671.370419  135629.507405      1.0     125.0      10.0      10.0   \n",
       "1   24328.560239   25282.425927      1.0     125.0       4.0       4.0   \n",
       "2   12400.008522   12575.838818      1.0     131.0       5.0       5.0   \n",
       "3  102717.995647  102078.634508      1.0     131.0      10.0      10.0   \n",
       "4   17627.674984   18234.736219      2.0     126.0       7.0       7.0   \n",
       "\n",
       "   INDFMPIR  \n",
       "0      4.39  \n",
       "1      1.32  \n",
       "2      1.51  \n",
       "3      5.00  \n",
       "4      1.23  \n",
       "\n",
       "[5 rows x 47 columns]"
      ]
     },
     "execution_count": 9,
     "metadata": {},
     "output_type": "execute_result"
    }
   ],
   "source": [
    "demo.head()"
   ]
  },
  {
   "cell_type": "code",
   "execution_count": 10,
   "metadata": {},
   "outputs": [
    {
     "name": "stdout",
     "output_type": "stream",
     "text": [
      "<class 'pandas.core.frame.DataFrame'>\n",
      "RangeIndex: 9971 entries, 0 to 9970\n",
      "Data columns (total 47 columns):\n",
      "SEQN        9971 non-null float64\n",
      "SDDSRVYR    9971 non-null float64\n",
      "RIDSTATR    9971 non-null float64\n",
      "RIAGENDR    9971 non-null float64\n",
      "RIDAGEYR    9971 non-null float64\n",
      "RIDAGEMN    695 non-null float64\n",
      "RIDRETH1    9971 non-null float64\n",
      "RIDRETH3    9971 non-null float64\n",
      "RIDEXMON    9544 non-null float64\n",
      "RIDEXAGM    4060 non-null float64\n",
      "DMQMILIZ    6149 non-null float64\n",
      "DMQADFC     527 non-null float64\n",
      "DMDBORN4    9971 non-null float64\n",
      "DMDCITZN    9969 non-null float64\n",
      "DMDYRSUS    2236 non-null float64\n",
      "DMDEDUC3    2647 non-null float64\n",
      "DMDEDUC2    5719 non-null float64\n",
      "DMDMARTL    5719 non-null float64\n",
      "RIDEXPRG    1288 non-null float64\n",
      "SIALANG     9971 non-null float64\n",
      "SIAPROXY    9970 non-null float64\n",
      "SIAINTRP    9971 non-null float64\n",
      "FIALANG     9642 non-null float64\n",
      "FIAPROXY    9642 non-null float64\n",
      "FIAINTRP    9642 non-null float64\n",
      "MIALANG     6977 non-null float64\n",
      "MIAPROXY    6978 non-null float64\n",
      "MIAINTRP    6978 non-null float64\n",
      "AIALANGA    5962 non-null float64\n",
      "DMDHHSIZ    9971 non-null float64\n",
      "DMDFMSIZ    9971 non-null float64\n",
      "DMDHHSZA    9971 non-null float64\n",
      "DMDHHSZB    9971 non-null float64\n",
      "DMDHHSZE    9971 non-null float64\n",
      "DMDHRGND    9971 non-null float64\n",
      "DMDHRAGE    9971 non-null float64\n",
      "DMDHRBR4    9575 non-null float64\n",
      "DMDHREDU    9575 non-null float64\n",
      "DMDHRMAR    9909 non-null float64\n",
      "DMDHSEDU    5226 non-null float64\n",
      "WTINT2YR    9971 non-null float64\n",
      "WTMEC2YR    9971 non-null float64\n",
      "SDMVPSU     9971 non-null float64\n",
      "SDMVSTRA    9971 non-null float64\n",
      "INDHHIN2    9626 non-null float64\n",
      "INDFMIN2    9642 non-null float64\n",
      "INDFMPIR    8919 non-null float64\n",
      "dtypes: float64(47)\n",
      "memory usage: 3.6 MB\n"
     ]
    }
   ],
   "source": [
    "demo.info()"
   ]
  },
  {
   "cell_type": "code",
   "execution_count": 11,
   "metadata": {},
   "outputs": [],
   "source": [
    "merged = bmx.merge(right = demo, on = 'SEQN')"
   ]
  },
  {
   "cell_type": "code",
   "execution_count": 12,
   "metadata": {},
   "outputs": [
    {
     "name": "stdout",
     "output_type": "stream",
     "text": [
      "      SEQN  BMDSTATS  BMXWT  BMIWT  BMXRECUM  BMIRECUM  BMXHEAD  BMIHEAD  \\\n",
      "0  83732.0       1.0   94.8    NaN       NaN       NaN      NaN      NaN   \n",
      "1  83733.0       1.0   90.4    NaN       NaN       NaN      NaN      NaN   \n",
      "2  83734.0       1.0   83.4    NaN       NaN       NaN      NaN      NaN   \n",
      "3  83735.0       1.0  109.8    NaN       NaN       NaN      NaN      NaN   \n",
      "4  83736.0       3.0   55.2    NaN       NaN       NaN      NaN      NaN   \n",
      "\n",
      "   BMXHT  BMIHT    ...     DMDHREDU  DMDHRMAR  DMDHSEDU       WTINT2YR  \\\n",
      "0  184.5    NaN    ...          5.0       1.0       3.0  134671.370419   \n",
      "1  171.4    NaN    ...          3.0       3.0       NaN   24328.560239   \n",
      "2  170.1    NaN    ...          3.0       1.0       3.0   12400.008522   \n",
      "3  160.9    NaN    ...          5.0       6.0       NaN  102717.995647   \n",
      "4  164.9    NaN    ...          4.0       3.0       NaN   17627.674984   \n",
      "\n",
      "        WTMEC2YR  SDMVPSU  SDMVSTRA  INDHHIN2  INDFMIN2  INDFMPIR  \n",
      "0  135629.507405      1.0     125.0      10.0      10.0      4.39  \n",
      "1   25282.425927      1.0     125.0       4.0       4.0      1.32  \n",
      "2   12575.838818      1.0     131.0       5.0       5.0      1.51  \n",
      "3  102078.634508      1.0     131.0      10.0      10.0      5.00  \n",
      "4   18234.736219      2.0     126.0       7.0       7.0      1.23  \n",
      "\n",
      "[5 rows x 72 columns]\n"
     ]
    }
   ],
   "source": [
    "print(merged.head())"
   ]
  },
  {
   "cell_type": "code",
   "execution_count": 13,
   "metadata": {},
   "outputs": [
    {
     "name": "stdout",
     "output_type": "stream",
     "text": [
      "(9544, 72)\n"
     ]
    }
   ],
   "source": [
    "print(merged.shape)"
   ]
  },
  {
   "cell_type": "markdown",
   "metadata": {},
   "source": [
    "# Baby Weights: [40 pts] \n",
    "\n",
    "Guiding question: Do baby boys weigh more than baby girls on average? \n",
    "\n",
    "• [5 pts] Calculate and display the mean weight of baby boys for each month, from month 0 to 12. You’ll produce 13 values, one for each month.\n",
    "\n",
    "• [5 pts] Calculate and display the mean weight of baby girls for each month, from month 0 to 12. \n",
    "\n",
    "• [5 pts] Calculate and display the difference between the mean weights of boys and girls for each month.\n",
    "\n",
    "• [10 pts] Make a line plot showing two lines: one for boys’ mean weights months 0-12, and one for girls’ mean weights 0-12 (in a different color). The month will go on the x-axis, and the mean weight will go on the y-axis.\n",
    "\n",
    "• [10 pts] (with seaborn) Make a scatterplot with linear regression lines for the baby boys’ relationship between age and wt, and the baby girls’ relationship between age and wt.\n",
    "\n",
    "• [5 pts + up to 5 pts bonus if excellent] Comment on what you think the data says about the\n",
    "guiding question. Include any additional analysis you deem appropriate."
   ]
  },
  {
   "cell_type": "markdown",
   "metadata": {},
   "source": [
    "• [5 pts] Calculate and display the mean weight of baby boys for each month, from month 0 to 12. You’ll produce 13 values, one for each month."
   ]
  },
  {
   "cell_type": "code",
   "execution_count": 14,
   "metadata": {},
   "outputs": [
    {
     "name": "stdout",
     "output_type": "stream",
     "text": [
      "RIDAGEMN\n",
      "5.397605e-79     4.794444\n",
      "1.000000e+00     5.791667\n",
      "2.000000e+00     6.661111\n",
      "3.000000e+00     7.000000\n",
      "4.000000e+00     7.795000\n",
      "5.000000e+00     8.525000\n",
      "6.000000e+00     8.263636\n",
      "7.000000e+00     9.061111\n",
      "8.000000e+00     9.322222\n",
      "9.000000e+00    10.093750\n",
      "1.000000e+01    10.364286\n",
      "1.100000e+01     9.963636\n",
      "1.200000e+01    10.523077\n",
      "Name: BMXWT, dtype: float64\n"
     ]
    }
   ],
   "source": [
    "babies = merged.loc[merged['RIDAGEMN'].isnull() == False]\n",
    "baby = babies[babies.RIDAGEMN.values.astype(int) >=0]\n",
    "baby12 = baby[baby.RIDAGEMN.values.astype(int) <= 12]\n",
    "\n",
    "baby12.RIAGENDR.values.astype(int)\n",
    "boybaby = baby12[baby12.RIAGENDR==1]\n",
    "boybaby.RIDAGEMN.values.astype(int)\n",
    "print(boybaby.groupby('RIDAGEMN')[\"BMXWT\"].mean())"
   ]
  },
  {
   "cell_type": "code",
   "execution_count": 15,
   "metadata": {},
   "outputs": [
    {
     "name": "stdout",
     "output_type": "stream",
     "text": [
      "RIDAGEMN\n",
      "5.397605e-79     4.794444\n",
      "1.000000e+00     5.791667\n",
      "2.000000e+00     6.661111\n",
      "3.000000e+00     7.000000\n",
      "4.000000e+00     7.795000\n",
      "5.000000e+00     8.525000\n",
      "6.000000e+00     8.263636\n",
      "7.000000e+00     9.061111\n",
      "8.000000e+00     9.322222\n",
      "9.000000e+00    10.093750\n",
      "1.000000e+01    10.364286\n",
      "1.100000e+01     9.963636\n",
      "1.200000e+01    10.523077\n",
      "Name: BMXWT, dtype: float64\n"
     ]
    }
   ],
   "source": [
    "# or\n",
    "babies = merged.loc[merged['RIDAGEMN'].isnull() == False]\n",
    "boybaby = babies.loc[((babies.RIDAGEMN.values.astype(int) <= 12) & (babies.RIAGENDR==1)),]\n",
    "boyweight = boybaby.groupby(\"RIDAGEMN\")[\"BMXWT\"].mean()\n",
    "print(boyweight)"
   ]
  },
  {
   "cell_type": "markdown",
   "metadata": {},
   "source": [
    "• [5 pts] Calculate and display the mean weight of baby girls for each month, from month 0 to 12. "
   ]
  },
  {
   "cell_type": "code",
   "execution_count": 16,
   "metadata": {
    "scrolled": true
   },
   "outputs": [
    {
     "name": "stdout",
     "output_type": "stream",
     "text": [
      "RIDAGEMN\n",
      "5.397605e-79    4.508333\n",
      "1.000000e+00    5.457143\n",
      "2.000000e+00    5.712500\n",
      "3.000000e+00    6.553846\n",
      "4.000000e+00    7.052941\n",
      "5.000000e+00    7.647059\n",
      "6.000000e+00    8.005263\n",
      "7.000000e+00    8.190909\n",
      "8.000000e+00    8.303704\n",
      "9.000000e+00    9.243750\n",
      "1.000000e+01    9.066667\n",
      "1.100000e+01    9.100000\n",
      "1.200000e+01    9.757143\n",
      "Name: BMXWT, dtype: float64\n"
     ]
    }
   ],
   "source": [
    "girlbaby = baby12[baby12.RIAGENDR==2]\n",
    "print(girlbaby.groupby('RIDAGEMN')[\"BMXWT\"].mean())"
   ]
  },
  {
   "cell_type": "code",
   "execution_count": 17,
   "metadata": {},
   "outputs": [
    {
     "name": "stdout",
     "output_type": "stream",
     "text": [
      "RIDAGEMN\n",
      "5.397605e-79    4.508333\n",
      "1.000000e+00    5.457143\n",
      "2.000000e+00    5.712500\n",
      "3.000000e+00    6.553846\n",
      "4.000000e+00    7.052941\n",
      "5.000000e+00    7.647059\n",
      "6.000000e+00    8.005263\n",
      "7.000000e+00    8.190909\n",
      "8.000000e+00    8.303704\n",
      "9.000000e+00    9.243750\n",
      "1.000000e+01    9.066667\n",
      "1.100000e+01    9.100000\n",
      "1.200000e+01    9.757143\n",
      "Name: BMXWT, dtype: float64\n"
     ]
    }
   ],
   "source": [
    "# or \n",
    "girlbaby = babies.loc[((babies.RIDAGEMN.values.astype(int) <= 12) & (babies.RIAGENDR==2)),]\n",
    "girlweight = girlbaby.groupby(\"RIDAGEMN\")[\"BMXWT\"].mean()\n",
    "print(girlweight)"
   ]
  },
  {
   "cell_type": "markdown",
   "metadata": {},
   "source": [
    "• [5 pts] Calculate and display the difference between the mean weights of boys and girls for each month."
   ]
  },
  {
   "cell_type": "code",
   "execution_count": 18,
   "metadata": {
    "scrolled": true
   },
   "outputs": [
    {
     "name": "stdout",
     "output_type": "stream",
     "text": [
      "RIDAGEMN\n",
      "5.397605e-79    0.286111\n",
      "1.000000e+00    0.334524\n",
      "2.000000e+00    0.948611\n",
      "3.000000e+00    0.446154\n",
      "4.000000e+00    0.742059\n",
      "5.000000e+00    0.877941\n",
      "6.000000e+00    0.258373\n",
      "7.000000e+00    0.870202\n",
      "8.000000e+00    1.018519\n",
      "9.000000e+00    0.850000\n",
      "1.000000e+01    1.297619\n",
      "1.100000e+01    0.863636\n",
      "1.200000e+01    0.765934\n",
      "Name: BMXWT, dtype: float64\n"
     ]
    }
   ],
   "source": [
    "boy = boybaby.groupby('RIDAGEMN')[\"BMXWT\"].mean()\n",
    "girl = girlbaby.groupby('RIDAGEMN')[\"BMXWT\"].mean()\n",
    "diff = boy - girl\n",
    "print(diff)"
   ]
  },
  {
   "cell_type": "code",
   "execution_count": 19,
   "metadata": {},
   "outputs": [
    {
     "name": "stdout",
     "output_type": "stream",
     "text": [
      "RIDAGEMN\n",
      "5.397605e-79    0.286111\n",
      "1.000000e+00    0.334524\n",
      "2.000000e+00    0.948611\n",
      "3.000000e+00    0.446154\n",
      "4.000000e+00    0.742059\n",
      "5.000000e+00    0.877941\n",
      "6.000000e+00    0.258373\n",
      "7.000000e+00    0.870202\n",
      "8.000000e+00    1.018519\n",
      "9.000000e+00    0.850000\n",
      "1.000000e+01    1.297619\n",
      "1.100000e+01    0.863636\n",
      "1.200000e+01    0.765934\n",
      "Name: BMXWT, dtype: float64\n"
     ]
    }
   ],
   "source": [
    "# or \n",
    "diff = boyweight - girlweight\n",
    "print(diff)"
   ]
  },
  {
   "cell_type": "markdown",
   "metadata": {},
   "source": [
    "• [10 pts] Make a line plot showing two lines: one for boys’ mean weights months 0-12, and one for girls’ mean weights 0-12 (in a different color). The month will go on the x-axis, and the mean weight will go on the y-axis."
   ]
  },
  {
   "cell_type": "code",
   "execution_count": 20,
   "metadata": {
    "scrolled": true
   },
   "outputs": [
    {
     "data": {
      "image/png": "[encoded data removed]",
      "text/plain": [
       "<matplotlib.figure.Figure at 0x211e6f4d748>"
      ]
     },
     "metadata": {},
     "output_type": "display_data"
    }
   ],
   "source": [
    "month = np.array([0,1,2,3,4,5,6,7,8,9,10,11,12])\n",
    "plt.plot(month,boy,color=\"red\")\n",
    "plt.plot(month,girl,color=\"skyblue\")\n",
    "plt.show()"
   ]
  },
  {
   "cell_type": "code",
   "execution_count": 21,
   "metadata": {},
   "outputs": [
    {
     "data": {
      "image/png": "[encoded data removed]",
      "text/plain": [
       "<matplotlib.figure.Figure at 0x211e6f4d630>"
      ]
     },
     "metadata": {},
     "output_type": "display_data"
    }
   ],
   "source": [
    "# or\n",
    "month = np.arange(0,13,1)\n",
    "plt.plot(month,boyweight,color=\"red\")\n",
    "plt.plot(month,girlweight,color=\"skyblue\")\n",
    "plt.show()"
   ]
  },
  {
   "cell_type": "markdown",
   "metadata": {},
   "source": [
    "• [10 pts] (with seaborn) Make a scatterplot with linear regression lines for the baby boys’ relationship between age and wt, and the baby girls’ relationship between age and wt."
   ]
  },
  {
   "cell_type": "code",
   "execution_count": 22,
   "metadata": {},
   "outputs": [
    {
     "data": {
      "image/png": "[encoded data removed]",
      "text/plain": [
       "<matplotlib.figure.Figure at 0x211e6f4d470>"
      ]
     },
     "metadata": {},
     "output_type": "display_data"
    }
   ],
   "source": [
    "sns.lmplot(x=\"RIDAGEMN\",y=\"BMXWT\", hue=\"RIAGENDR\",data=babies)\n",
    "plt.show()"
   ]
  },
  {
   "cell_type": "markdown",
   "metadata": {},
   "source": [
    "• [5 pts + up to 5 pts bonus if excellent] Comment on what you think the data says about the\n",
    "guiding question. Include any additional analysis you deem appropriate."
   ]
  },
  {
   "cell_type": "markdown",
   "metadata": {},
   "source": [
    "Do baby boys weigh more than baby girls on average? \n",
    "In my opinion, yes, baby boys weigh more than baby girls on average."
   ]
  },
  {
   "cell_type": "markdown",
   "metadata": {},
   "source": [
    "# Height vs leg length vs arm length: [35pts]\n",
    "\n",
    "Guiding question: What’s the relationship between height and leg length and arm length. Does this relationship change with age?\n",
    "For all adults aged 20 and up, who have all three measurements of height, upper leg length, and upper arm length:\n",
    "\n",
    "• [3 pts] What is the correlation between standing height and upper leg length? \n",
    "\n",
    "• [3 pts] What is the correlation between standing height and upper arm length? \n",
    "\n",
    "• [3 pts] What is the correlation between upper leg length and upper arm length? \n",
    "\n",
    "• Make adult age groups by decade: i.e. adults aged 20-29.9, adults aged 30-39.9, … adults aged 70-79.9, adults aged 80+ (7 groups total). (not required, but recommended: use pandas.cut … this function was not explicitly covered in the notes, but you should be able to read the documentation to learn function usage. If you use this, set option: right=False)\n",
    "\n",
    "• [10 pts] For each age group, calculate the mean of the three values. \n",
    "\n",
    "• [10 pts] We want to make a plot with three lines showing the relationship between the age decade and the mean height, leg length, and arm length. \n",
    "o However, because leg length and arm length are similar in scale, but height is not, create an ‘adjusted height’ column which is the mean height minus 128 cm.\n",
    "\n",
    "o Plot three lines: adjusted height, leg length, arm length.\n",
    "\n",
    "o The x-axis will be the age decade, and the y-axis will be the mean measurement for each age group.\n",
    "\n",
    "o Be sure to include a legend\n",
    "\n",
    "• [6 pts + up to 5 pts bonus if excellent] Comment on what you think the data says about the\n",
    "guiding question. Include any additional analysis you deem appropriate."
   ]
  },
  {
   "cell_type": "markdown",
   "metadata": {},
   "source": [
    "• [3 pts] What is the correlation between standing height and upper leg length?"
   ]
  },
  {
   "cell_type": "code",
   "execution_count": 23,
   "metadata": {},
   "outputs": [
    {
     "name": "stdout",
     "output_type": "stream",
     "text": [
      "0.7870663123395181\n"
     ]
    }
   ],
   "source": [
    "adult = merged.loc[merged['RIDAGEYR'].isnull() == False]\n",
    "adult20 = adult[adult.RIDAGEYR.values.astype(int) >=20]\n",
    "print(adult20['BMXHT'].corr(adult20['BMXLEG']))"
   ]
  },
  {
   "cell_type": "code",
   "execution_count": 24,
   "metadata": {},
   "outputs": [
    {
     "name": "stdout",
     "output_type": "stream",
     "text": [
      "[[1.         0.78706631]\n",
      " [0.78706631 1.        ]]\n"
     ]
    }
   ],
   "source": [
    "# or \n",
    "adult20 = merged.loc[((merged['RIDAGEYR'].isnull() == False) & \n",
    "                      (merged.RIDAGEYR.values.astype(int) >=20)) & \n",
    "                     (merged['BMXHT'].isnull() == False) & \n",
    "                     (merged['BMXLEG'].isnull() == False),]\n",
    "print(np.corrcoef(adult20['BMXHT'].values, adult20['BMXLEG'].values))"
   ]
  },
  {
   "cell_type": "markdown",
   "metadata": {},
   "source": [
    "• [3 pts] What is the correlation between standing height and upper arm length? "
   ]
  },
  {
   "cell_type": "code",
   "execution_count": 25,
   "metadata": {},
   "outputs": [
    {
     "name": "stdout",
     "output_type": "stream",
     "text": [
      "0.7978726822536472\n"
     ]
    }
   ],
   "source": [
    "print(adult20['BMXHT'].corr(adult20['BMXARML']))"
   ]
  },
  {
   "cell_type": "markdown",
   "metadata": {},
   "source": [
    "• [3 pts] What is the correlation between upper leg length and upper arm length? "
   ]
  },
  {
   "cell_type": "code",
   "execution_count": 26,
   "metadata": {},
   "outputs": [
    {
     "name": "stdout",
     "output_type": "stream",
     "text": [
      "0.629369419684494\n"
     ]
    }
   ],
   "source": [
    "print(adult20['BMXLEG'].corr(adult20['BMXARML']))"
   ]
  },
  {
   "cell_type": "markdown",
   "metadata": {},
   "source": [
    "• Make adult age groups by decade: i.e. adults aged 20-29.9, adults aged 30-39.9, … adults aged 70-79.9, adults aged 80+ (7 groups total). (not required, but recommended: use pandas.cut … this function was not explicitly covered in the notes, but you should be able to read the documentation to learn function usage. If you use this, set option: right=False)"
   ]
  },
  {
   "cell_type": "code",
   "execution_count": 27,
   "metadata": {},
   "outputs": [
    {
     "name": "stderr",
     "output_type": "stream",
     "text": [
      "C:\\Users\\Wendy Yan\\Anaconda3\\lib\\site-packages\\ipykernel_launcher.py:1: SettingWithCopyWarning: \n",
      "A value is trying to be set on a copy of a slice from a DataFrame.\n",
      "Try using .loc[row_indexer,col_indexer] = value instead\n",
      "\n",
      "See the caveats in the documentation: http://pandas.pydata.org/pandas-docs/stable/indexing.html#indexing-view-versus-copy\n",
      "  \"\"\"Entry point for launching an IPython kernel.\n"
     ]
    },
    {
     "data": {
      "text/plain": [
       "0        [60, 70)\n",
       "1        [50, 60)\n",
       "2        [70, 80)\n",
       "3        [50, 60)\n",
       "4        [40, 50)\n",
       "5        [70, 80)\n",
       "9        [20, 30)\n",
       "10       [30, 40)\n",
       "12       [50, 60)\n",
       "15       [40, 50)\n",
       "18       [40, 50)\n",
       "20       [30, 40)\n",
       "22       [60, 70)\n",
       "23       [60, 70)\n",
       "25       [50, 60)\n",
       "28       [20, 30)\n",
       "29       [20, 30)\n",
       "34       [50, 60)\n",
       "36       [40, 50)\n",
       "39      [80, 150)\n",
       "41       [60, 70)\n",
       "42       [50, 60)\n",
       "43       [50, 60)\n",
       "47       [20, 30)\n",
       "49       [20, 30)\n",
       "50       [60, 70)\n",
       "51       [50, 60)\n",
       "52       [60, 70)\n",
       "53       [60, 70)\n",
       "54       [60, 70)\n",
       "          ...    \n",
       "9488     [70, 80)\n",
       "9489    [80, 150)\n",
       "9495     [70, 80)\n",
       "9496     [20, 30)\n",
       "9497     [20, 30)\n",
       "9498     [30, 40)\n",
       "9499     [70, 80)\n",
       "9502     [60, 70)\n",
       "9504     [20, 30)\n",
       "9506     [40, 50)\n",
       "9507     [30, 40)\n",
       "9508     [30, 40)\n",
       "9512     [30, 40)\n",
       "9513     [40, 50)\n",
       "9514     [60, 70)\n",
       "9517     [30, 40)\n",
       "9518     [30, 40)\n",
       "9519     [30, 40)\n",
       "9521     [70, 80)\n",
       "9523     [40, 50)\n",
       "9525     [30, 40)\n",
       "9526     [50, 60)\n",
       "9530     [60, 70)\n",
       "9531     [30, 40)\n",
       "9532     [20, 30)\n",
       "9536     [70, 80)\n",
       "9537     [20, 30)\n",
       "9538    [80, 150)\n",
       "9541     [30, 40)\n",
       "9543     [20, 30)\n",
       "Name: agegroups, Length: 5092, dtype: category\n",
       "Categories (7, interval[int64]): [[20, 30) < [30, 40) < [40, 50) < [50, 60) < [60, 70) < [70, 80) < [80, 150)]"
      ]
     },
     "execution_count": 27,
     "metadata": {},
     "output_type": "execute_result"
    }
   ],
   "source": [
    "adult20[\"agegroups\"] = pd.cut(adult20.RIDAGEYR,[20,30,40,50,60,70,80,150],right=False)\n",
    "adult20.agegroups "
   ]
  },
  {
   "cell_type": "markdown",
   "metadata": {},
   "source": [
    "• [10 pts] For each age group, calculate the mean of the three values. "
   ]
  },
  {
   "cell_type": "code",
   "execution_count": 28,
   "metadata": {
    "scrolled": true
   },
   "outputs": [
    {
     "name": "stdout",
     "output_type": "stream",
     "text": [
      "                BMXHT     BMXLEG    BMXARML\n",
      "agegroups                                  \n",
      "[20, 30)   167.866592  40.064117  37.068919\n",
      "[30, 40)   167.504462  39.556751  37.154754\n",
      "[40, 50)   166.557159  38.676019  37.094632\n",
      "[50, 60)   166.351887  38.157901  37.188784\n",
      "[60, 70)   164.978555  37.344639  37.252859\n",
      "[70, 80)   164.728016  36.984049  37.350102\n",
      "[80, 150)  162.097091  36.516000  36.908000\n"
     ]
    }
   ],
   "source": [
    "print(adult20.groupby('agegroups')[\"BMXHT\",\"BMXLEG\",\"BMXARML\"].mean())"
   ]
  },
  {
   "cell_type": "markdown",
   "metadata": {},
   "source": [
    "• [10 pts] We want to make a plot with three lines showing the relationship between the age decade and the mean height, leg length, and arm length. \n",
    "\n",
    "o However, because leg length and arm length are similar in scale, but height is not, create an ‘adjusted height’ column which is the mean height minus 128 cm.\n",
    "\n",
    "o Plot three lines: adjusted height, leg length, arm length.\n",
    "\n",
    "o The x-axis will be the age decade, and the y-axis will be the mean measurement for each age group.\n",
    "\n",
    "o Be sure to include a legend"
   ]
  },
  {
   "cell_type": "code",
   "execution_count": 29,
   "metadata": {
    "scrolled": true
   },
   "outputs": [
    {
     "data": {
      "image/png": "[encoded data removed]",
      "text/plain": [
       "<matplotlib.figure.Figure at 0x211e71dd668>"
      ]
     },
     "metadata": {},
     "output_type": "display_data"
    }
   ],
   "source": [
    "table = adult20.groupby('agegroups')[\"BMXHT\",\"BMXLEG\",\"BMXARML\"].mean()\n",
    "table[\"BMXHT\"]= table[\"BMXHT\"]-128\n",
    "table[\"agegroups\"]=table.index\n",
    "\n",
    "sns.pointplot(table.agegroups,table[\"BMXHT\"],color=\"red\")\n",
    "sns.pointplot(table.agegroups,table[\"BMXLEG\"],color=\"yellow\")\n",
    "sns.pointplot(table.agegroups,table[\"BMXARML\"],color=\"skyblue\")\n",
    "\n",
    "plt.show()"
   ]
  },
  {
   "cell_type": "markdown",
   "metadata": {},
   "source": [
    "• [6 pts + up to 5 pts bonus if excellent] Comment on what you think the data says about the\n",
    "guiding question. Include any additional analysis you deem appropriate."
   ]
  },
  {
   "cell_type": "markdown",
   "metadata": {},
   "source": [
    "What’s the relationship between height and leg length and arm length. Does this relationship change with age?\n",
    "the relationship between height and leg length and arm length are \n",
    "yes, this relationship change with age."
   ]
  },
  {
   "cell_type": "markdown",
   "metadata": {},
   "source": [
    "# Education Level and income [25pts] \n",
    "Guiding question: Is the Education level of the head of the household related to household income?\n",
    "\n",
    "• Use the variable: INDHHIN2 for household income. Use DMDHREDU for the education level of the head of the household.\n",
    "\n",
    "• Filter to adults aged 20 and older. \n",
    "\n",
    "• Remove people who are missing, refused to answer, or didn’t know the household income or education levels.\n",
    "\n",
    "• Remove household income categories 12 ($20,000 and over) and 13 (under $20,000) as they don’t quite fit in with the other income categories.\n",
    "\n",
    "• [5 pts] Print the shape of the resulting data before the next step. \n",
    "\n",
    "• [15 pts] Summarize and display the data to explore the relationship between education level and income. This question is purposely open-ended. You choose how best to summarize and display the data to answer the question regarding education level and household income.\n",
    "\n",
    "• [5 pts + up to 5 pts bonus if excellent] Be sure to comment on what you think the data and displays say about the guiding question. Say a little more than “more education - more money.” Yes, that is the relationship you’ll see, but elaborate a little more. For example, at what point\n",
    "does education make a difference?"
   ]
  },
  {
   "cell_type": "markdown",
   "metadata": {},
   "source": [
    "• Use the variable: INDHHIN2 for household income. Use DMDHREDU for the education level of the head of the household.\n",
    "\n",
    "• Filter to adults aged 20 and older. \n",
    "\n",
    "• Remove people who are missing, refused to answer, or didn’t know the household income or education levels."
   ]
  },
  {
   "cell_type": "code",
   "execution_count": 30,
   "metadata": {},
   "outputs": [
    {
     "name": "stdout",
     "output_type": "stream",
     "text": [
      "<class 'pandas.core.frame.DataFrame'>\n",
      "Int64Index: 4638 entries, 0 to 9543\n",
      "Data columns (total 3 columns):\n",
      "RIDAGEYR    4638 non-null float64\n",
      "INDHHIN2    4638 non-null float64\n",
      "DMDHREDU    4638 non-null float64\n",
      "dtypes: float64(3)\n",
      "memory usage: 144.9 KB\n"
     ]
    }
   ],
   "source": [
    "df = adult20.loc[((~adult20.INDHHIN2.isnull()) & \n",
    "                  (~adult20.DMDHREDU.isnull()) & \n",
    "                 (adult20.INDHHIN2!=77) &\n",
    "                 (adult20.INDHHIN2!=99) &\n",
    "                 (adult20.DMDHREDU!=7) & \n",
    "                 (adult20.DMDHREDU!=9)),\n",
    "                 (\"RIDAGEYR\",\"INDHHIN2\",\"DMDHREDU\")]\n",
    "df.info()"
   ]
  },
  {
   "cell_type": "markdown",
   "metadata": {},
   "source": [
    "• Remove household income categories 12 ($20,000 and over) and 13 (under $20,000) as they don’t quite fit in with the other income categories."
   ]
  },
  {
   "cell_type": "code",
   "execution_count": 31,
   "metadata": {},
   "outputs": [
    {
     "name": "stdout",
     "output_type": "stream",
     "text": [
      "<class 'pandas.core.frame.DataFrame'>\n",
      "Int64Index: 4423 entries, 0 to 9543\n",
      "Data columns (total 3 columns):\n",
      "RIDAGEYR    4423 non-null float64\n",
      "INDHHIN2    4423 non-null float64\n",
      "DMDHREDU    4423 non-null float64\n",
      "dtypes: float64(3)\n",
      "memory usage: 138.2 KB\n"
     ]
    }
   ],
   "source": [
    "df = df.loc[((df.INDHHIN2!=12) & (df.INDHHIN2!=13)),]\n",
    "df.info()"
   ]
  },
  {
   "cell_type": "markdown",
   "metadata": {},
   "source": [
    "• [5 pts] Print the shape of the resulting data before the next step. "
   ]
  },
  {
   "cell_type": "code",
   "execution_count": 32,
   "metadata": {},
   "outputs": [
    {
     "name": "stdout",
     "output_type": "stream",
     "text": [
      "(4423, 3)\n"
     ]
    }
   ],
   "source": [
    "print(df.shape)"
   ]
  },
  {
   "cell_type": "markdown",
   "metadata": {},
   "source": [
    "• [15 pts] Summarize and display the data to explore the relationship between education level and income. This question is purposely open-ended. You choose how best to summarize and display the data to answer the question regarding education level and household income."
   ]
  },
  {
   "cell_type": "code",
   "execution_count": 33,
   "metadata": {},
   "outputs": [
    {
     "name": "stdout",
     "output_type": "stream",
     "text": [
      "count    4423.000000\n",
      "mean        8.561610\n",
      "std         4.385716\n",
      "min         1.000000\n",
      "25%         5.000000\n",
      "50%         8.000000\n",
      "75%        14.000000\n",
      "max        15.000000\n",
      "Name: INDHHIN2, dtype: float64\n"
     ]
    }
   ],
   "source": [
    "summaryincome = df.INDHHIN2.describe()\n",
    "print(summaryincome)"
   ]
  },
  {
   "cell_type": "code",
   "execution_count": 34,
   "metadata": {},
   "outputs": [
    {
     "name": "stdout",
     "output_type": "stream",
     "text": [
      "count    4423.000000\n",
      "mean        3.514357\n",
      "std         1.279278\n",
      "min         1.000000\n",
      "25%         3.000000\n",
      "50%         4.000000\n",
      "75%         5.000000\n",
      "max         5.000000\n",
      "Name: DMDHREDU, dtype: float64\n"
     ]
    }
   ],
   "source": [
    "summaryedu = df.DMDHREDU.describe()\n",
    "print(summaryedu)"
   ]
  },
  {
   "cell_type": "code",
   "execution_count": 35,
   "metadata": {},
   "outputs": [
    {
     "name": "stdout",
     "output_type": "stream",
     "text": [
      "0.4180329523439446\n"
     ]
    }
   ],
   "source": [
    "print(df['INDHHIN2'].corr(df['DMDHREDU']))"
   ]
  },
  {
   "cell_type": "code",
   "execution_count": 36,
   "metadata": {},
   "outputs": [
    {
     "data": {
      "image/png": "[encoded data removed]",
      "text/plain": [
       "<matplotlib.figure.Figure at 0x211e6ed10b8>"
      ]
     },
     "metadata": {},
     "output_type": "display_data"
    }
   ],
   "source": [
    "sns.pointplot(df.DMDHREDU,df.INDHHIN2,color=\"skyblue\")\n",
    "plt.show()"
   ]
  },
  {
   "cell_type": "markdown",
   "metadata": {},
   "source": [
    "there is no any relationship between education level and income because the correlation coefficient is very samll. "
   ]
  },
  {
   "cell_type": "markdown",
   "metadata": {},
   "source": [
    "• [5 pts + up to 5 pts bonus if excellent] Be sure to comment on what you think the data and displays say about the guiding question. Say a little more than “more education - more money.” Yes, that is the relationship you’ll see, but elaborate a little more. For example, at what point\n",
    "does education make a difference?"
   ]
  },
  {
   "cell_type": "markdown",
   "metadata": {},
   "source": [
    "Is the Education level of the head of the household related to household income?\n",
    "\n",
    "at the point of 9 for education level, the income will be higher."
   ]
  },
  {
   "cell_type": "code",
   "execution_count": null,
   "metadata": {},
   "outputs": [],
   "source": []
  }
 ],
 "metadata": {
  "kernelspec": {
   "display_name": "Python 3",
   "language": "python",
   "name": "python3"
  },
  "language_info": {
   "codemirror_mode": {
    "name": "ipython",
    "version": 3
   },
   "file_extension": ".py",
   "mimetype": "text/x-python",
   "name": "python",
   "nbconvert_exporter": "python",
   "pygments_lexer": "ipython3",
   "version": "3.6.4"
  }
 },
 "nbformat": 4,
 "nbformat_minor": 2
}
